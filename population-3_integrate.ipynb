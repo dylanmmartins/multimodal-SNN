{
 "cells": [
  {
   "cell_type": "markdown",
   "id": "34fb7ad2-8ac8-44d0-a8a1-00c6d0475d6f",
   "metadata": {},
   "source": [
    "## Imports"
   ]
  },
  {
   "cell_type": "code",
   "execution_count": 1,
   "id": "b89b7617-2a38-4726-b98e-f2dfb08e425a",
   "metadata": {},
   "outputs": [],
   "source": [
    "import matplotlib.pyplot as plt\n",
    "import numpy as np\n",
    "import snntorch as snn\n",
    "import snntorch.functional as SF\n",
    "from snntorch import spikeplot as splt\n",
    "import snntorch.spikegen as spikegen\n",
    "import torch\n",
    "from torch import nn\n",
    "from torch.optim import Adam"
   ]
  },
  {
   "cell_type": "markdown",
   "id": "39cca4ba-064b-4323-94e2-546e08ae9860",
   "metadata": {},
   "source": [
    "## Model definitions"
   ]
  },
  {
   "cell_type": "code",
   "execution_count": 2,
   "id": "61cc7fed-047c-453b-a209-9b949753a6fe",
   "metadata": {},
   "outputs": [],
   "source": [
    "# Define the encoding layer for visual and auditory inputs\n",
    "class EncodingLayer(nn.Module):\n",
    "    def __init__(self, input_size, hidden_size, beta):\n",
    "        super(EncodingLayer, self).__init__()\n",
    "        self.fc = nn.Linear(input_size, hidden_size)\n",
    "        self.lif = snn.Leaky(beta=beta)\n",
    "\n",
    "    def forward(self, x):\n",
    "        cur = self.fc(x)\n",
    "        spk, mem = self.lif(cur)\n",
    "        return spk, mem"
   ]
  },
  {
   "cell_type": "code",
   "execution_count": 3,
   "id": "4fd53326-d020-4e30-be54-03f014a90b9d",
   "metadata": {},
   "outputs": [],
   "source": [
    "class MultimodalIntegration(nn.Module):\n",
    "    \"\"\"\n",
    "    Combine the outputs from the visual and auditory encoders into a single multimodal representation.\n",
    "    \"\"\"\n",
    "    def __init__(self, multimodal_size, output_size, beta):\n",
    "        super(MultimodalIntegration, self).__init__()\n",
    "        self.fc = nn.Linear(multimodal_size, output_size)\n",
    "        self.lif = snn.Leaky(beta=beta)\n",
    "\n",
    "    def forward(self, x):\n",
    "        cur = self.fc(x)\n",
    "        spk, mem = self.lif(cur)\n",
    "        return spk, mem"
   ]
  },
  {
   "cell_type": "markdown",
   "id": "9dadabcd-5ce3-427a-bea2-d9e33c9aba05",
   "metadata": {},
   "source": [
    "## Hyperparameters"
   ]
  },
  {
   "cell_type": "markdown",
   "id": "11cc23d0-63b2-46b2-864b-1100398bb40a",
   "metadata": {},
   "source": [
    "## Create models"
   ]
  },
  {
   "cell_type": "code",
   "execution_count": 4,
   "id": "f5b69467-1a34-4070-8d27-700c2249e1d4",
   "metadata": {},
   "outputs": [],
   "source": [
    "visual_size = 5  # Length of visual input vector\n",
    "audio_size = 3   # Length of audio input vector\n",
    "hidden_size = 10  # Number of neurons in the hidden layers\n",
    "beta = 0.9  # Decay rate of the LIF neuron\n",
    "multimodal_size = hidden_size * 2  # Combined size for multimodal layer\n",
    "\n",
    "# Output size for the final multimodal representation\n",
    "output_size = 4"
   ]
  },
  {
   "cell_type": "code",
   "execution_count": 5,
   "id": "eba47354-b689-483e-8f6e-3e00b9855351",
   "metadata": {},
   "outputs": [],
   "source": [
    "# Create the encoding layers\n",
    "visual_encoder = EncodingLayer(visual_size, hidden_size, beta)\n",
    "audio_encoder = EncodingLayer(audio_size, hidden_size, beta)"
   ]
  },
  {
   "cell_type": "code",
   "execution_count": 6,
   "id": "00aa0f55-8d03-4228-ac81-fbf5976cde17",
   "metadata": {},
   "outputs": [],
   "source": [
    "net = MultimodalIntegration(multimodal_size, output_size, beta)"
   ]
  },
  {
   "cell_type": "markdown",
   "id": "4fd1ec04-c98c-4da0-85cf-6973bdcb1c62",
   "metadata": {},
   "source": [
    "## Run stuff through them (no training)"
   ]
  },
  {
   "cell_type": "code",
   "execution_count": 7,
   "id": "148dbaf9-f110-433a-a47e-adf1f456ced5",
   "metadata": {},
   "outputs": [
    {
     "name": "stdout",
     "output_type": "stream",
     "text": [
      "Intel MKL WARNING: Support of Intel(R) Streaming SIMD Extensions 4.2 (Intel(R) SSE4.2) enabled only processors has been deprecated. Intel oneAPI Math Kernel Library 2025.0 will require Intel(R) Advanced Vector Extensions (Intel(R) AVX) instructions.\n"
     ]
    }
   ],
   "source": [
    "# Create example input data\n",
    "visual_input = torch.rand((visual_size,))\n",
    "audio_input = torch.rand((audio_size,))\n",
    "\n",
    "# Generate spike trains from input data\n",
    "visual_spike_train = spikegen.rate(visual_input, num_steps=100)\n",
    "audio_spike_train = spikegen.rate(audio_input, num_steps=100)\n",
    "\n",
    "# Forward pass through the encoding layers\n",
    "visual_spk, mem = visual_encoder(visual_spike_train.float())\n",
    "audio_spk, mem = audio_encoder(audio_spike_train.float())"
   ]
  },
  {
   "cell_type": "code",
   "execution_count": 8,
   "id": "02dd3ebe-3bba-49ed-ae25-628ba9bcf338",
   "metadata": {},
   "outputs": [
    {
     "name": "stdout",
     "output_type": "stream",
     "text": [
      "torch.Size([100, 20])\n",
      "torch.Size([100, 4])\n"
     ]
    }
   ],
   "source": [
    "# Concatenate the encoded spikes\n",
    "combined_spikes = torch.cat((visual_spk, audio_spk), dim=1)\n",
    "print(combined_spikes.shape)\n",
    "\n",
    "# Forward pass through the integration layer\n",
    "multimodal_output, mem = net(combined_spikes)\n",
    "print(multimodal_output.shape)\n",
    "\n",
    "#print(\"Multimodal output spike vector:\", multimodal_output)"
   ]
  },
  {
   "cell_type": "markdown",
   "id": "cf0dbb5b-038e-45ed-8a13-7e0a78d83fe6",
   "metadata": {},
   "source": [
    "## Training"
   ]
  },
  {
   "cell_type": "code",
   "execution_count": 9,
   "id": "78870c1d-8b9f-4a02-a13a-4f3f819176dc",
   "metadata": {},
   "outputs": [],
   "source": [
    "# Define loss function and optimizer\n",
    "loss_fn = nn.MSELoss()\n",
    "optimizer = Adam(net.parameters(), lr=0.01)\n",
    "\n",
    "# Generate dummy training data\n",
    "num_samples = 1000\n",
    "inputs1 = torch.rand((num_samples, hidden_size))\n",
    "inputs2 = torch.rand((num_samples, hidden_size))\n",
    "targets = torch.rand((num_samples, output_size))"
   ]
  },
  {
   "cell_type": "code",
   "execution_count": 10,
   "id": "336a8c19-6a3c-4276-881a-fba50e3532a7",
   "metadata": {
    "scrolled": true
   },
   "outputs": [
    {
     "name": "stdout",
     "output_type": "stream",
     "text": [
      "Epoch 1/2, Loss: 33.2993\n",
      "Epoch 2/2, Loss: 33.1589\n",
      "Training complete\n"
     ]
    }
   ],
   "source": [
    "# Training loop\n",
    "num_epochs = 2\n",
    "num_steps = 100  # Number of timesteps for the spike train\n",
    "for epoch in range(num_epochs):\n",
    "    epoch_loss = 0.0\n",
    "    for i in range(num_samples):\n",
    "        input_vector1 = inputs1[i]\n",
    "        input_vector2 = inputs2[i]\n",
    "        target = targets[i]\n",
    "\n",
    "        # Concatenate input vectors\n",
    "        input_vector = torch.cat((input_vector1, input_vector2))\n",
    "\n",
    "        # Generate spike trains from input data\n",
    "        spike_train = spikegen.rate(input_vector, num_steps=num_steps)\n",
    "\n",
    "        # Initialize hidden states\n",
    "        mem1 = net.lif.init_leaky()\n",
    "\n",
    "        # Accumulate loss over timesteps\n",
    "        total_loss = 0.0\n",
    "        optimizer.zero_grad()\n",
    "        for t in range(num_steps):\n",
    "            # Forward pass through the network for each timestep\n",
    "            cur1 = net.fc(spike_train[t])\n",
    "            spk1, mem1 = net.lif(cur1, mem1)\n",
    "\n",
    "            # Compute loss for this timestep\n",
    "            loss = loss_fn(spk1, target)\n",
    "            total_loss += loss\n",
    "\n",
    "        # Backward pass and optimization\n",
    "        total_loss.backward()\n",
    "        optimizer.step()\n",
    "\n",
    "        epoch_loss += total_loss.item()\n",
    "\n",
    "    avg_loss = epoch_loss / num_samples\n",
    "    print(f'Epoch {epoch+1}/{num_epochs}, Loss: {avg_loss:.4f}')\n",
    "\n",
    "        \n",
    "print(\"Training complete\")"
   ]
  },
  {
   "cell_type": "markdown",
   "id": "8de74e0b-6720-4d90-bb79-6f4525bb482b",
   "metadata": {},
   "source": [
    "## Inference"
   ]
  },
  {
   "cell_type": "code",
   "execution_count": 13,
   "id": "94b5b508-b04a-438e-83d2-9a0504748ce5",
   "metadata": {
    "scrolled": true
   },
   "outputs": [],
   "source": [
    "# Create example input data\n",
    "visual_input = torch.rand((visual_size,))\n",
    "audio_input = torch.rand((audio_size,))\n",
    "\n",
    "# Generate spike trains from input data\n",
    "visual_spike_train = spikegen.rate(visual_input, num_steps=100)\n",
    "audio_spike_train = spikegen.rate(audio_input, num_steps=100)\n",
    "\n",
    "# Forward pass through the encoding layers\n",
    "visual_spk, memv = visual_encoder(visual_spike_train.float())\n",
    "audio_spk, mema = audio_encoder(audio_spike_train.float())\n",
    "\n",
    "# Concatenate the encoded spikes\n",
    "combined_spikes = torch.cat((visual_spk, audio_spk), dim=1)\n",
    "\n",
    "# Forward pass through the integration layer\n",
    "multimodal_output, mem = net(combined_spikes)"
   ]
  },
  {
   "cell_type": "code",
   "execution_count": 14,
   "id": "4a55c9d6-dcc9-4175-bac6-52ebc8aa0f6b",
   "metadata": {},
   "outputs": [
    {
     "name": "stdout",
     "output_type": "stream",
     "text": [
      "Vision Input: shape=torch.Size([100, 5]), spikes=319.0\n",
      "Audio: shape=torch.Size([100, 10]), spikes=78.0\n",
      "Multimodal: shape=torch.Size([100, 4]), spikes=0.0\n"
     ]
    },
    {
     "data": {
      "image/png": "[encoded data removed]",
      "text/plain": [
       "<Figure size 800x700 with 5 Axes>"
      ]
     },
     "metadata": {},
     "output_type": "display_data"
    }
   ],
   "source": [
    "print(f\"Vision Input: shape={visual_spike_train.shape}, spikes={visual_spike_train.sum()}\")\n",
    "print(f\"Audio: shape={audio_spk.shape}, spikes={audio_spk.sum()}\")\n",
    "print(f\"Multimodal: shape={multimodal_output.shape}, spikes={multimodal_output.sum()}\")\n",
    "\n",
    "fig, ax = plt.subplots(5, figsize=(8,7), sharex=True, \n",
    "                    gridspec_kw = {'height_ratios': [1, 1, 1, 1, 0.4]})\n",
    "\n",
    "# Plot input spikes\n",
    "splt.raster(visual_spike_train, ax[0], s=5, c=\"black\")\n",
    "ax[0].set_ylabel(\"Vision Input\")\n",
    "ax[0].set_title(\"Multimodal Integration\")\n",
    "\n",
    "# Plot hidden layer spikes\n",
    "splt.raster(visual_spk, ax[1], s=5, c=\"black\")\n",
    "ax[1].set_ylabel(\"Vision Hidden\")\n",
    "\n",
    "# Plot input spikes\n",
    "splt.raster(audio_spike_train, ax[2], s=5, c=\"black\")\n",
    "ax[2].set_ylabel(\"Audio Input\")\n",
    "\n",
    "# Plot hidden layer spikes\n",
    "splt.raster(audio_spk, ax[3], s=5, c=\"black\")\n",
    "ax[3].set_ylabel(\"Audio Hidden\")\n",
    "\n",
    "# Plot output spikes\n",
    "splt.raster(multimodal_output.reshape(num_steps, -1), ax[4], c=\"black\", marker=\"|\")\n",
    "ax[4].set_ylabel(\"Multimodal Output\")\n",
    "\n",
    "plt.tight_layout()\n",
    "plt.show()\n",
    "\n",
    "## Can also plot mem; will show for each neuron\n",
    "#plt.plot(memv.detach().numpy())\n",
    "#plt.plot(mem.detach().numpy())"
   ]
  }
 ],
 "metadata": {
  "kernelspec": {
   "display_name": "Python 3 (ipykernel)",
   "language": "python",
   "name": "python3"
  },
  "language_info": {
   "codemirror_mode": {
    "name": "ipython",
    "version": 3
   },
   "file_extension": ".py",
   "mimetype": "text/x-python",
   "name": "python",
   "nbconvert_exporter": "python",
   "pygments_lexer": "ipython3",
   "version": "3.10.14"
  }
 },
 "nbformat": 4,
 "nbformat_minor": 5
}
