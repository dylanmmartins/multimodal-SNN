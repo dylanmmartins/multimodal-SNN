{
 "cells": [
  {
   "cell_type": "code",
   "execution_count": 84,
   "metadata": {},
   "outputs": [],
   "source": [
    "#import dependences \n",
    "import snntorch as snn\n",
    "import torch\n",
    "from torchvision import datasets, transforms\n",
    "from snntorch import utils\n",
    "\n",
    "from torch.utils.data import DataLoader, TensorDataset\n",
    "import torch.nn as nn\n",
    "import matplotlib.pyplot as plt\n",
    "from snntorch import spikegen\n",
    "import numpy as np\n",
    "\n",
    "dtype = torch.float\n",
    "torch.set_default_dtype(dtype)\n",
    "device = torch.device(\"cuda\") if torch.cuda.is_available() else torch.device(\"mps\") if torch.backends.mps.is_available() else torch.device(\"cpu\") #uses the GPU when is available"
   ]
  },
  {
   "cell_type": "code",
   "execution_count": 85,
   "metadata": {},
   "outputs": [],
   "source": [
    "audio_stim = np.load('auditory_stimuli.npz') #load the mpz file as the auditory stimulus the keys are x_train, y_train, x_test, y_test\n",
    "X_train_raw = audio_stim['X_train'] #size of (2100, 129, 81) number of samples x frequency x time \n",
    "X_test_raw = audio_stim['X_test'] #size of (900, 129, 81)\n",
    "y_train = audio_stim['y_train'] #size (2100 by 1)\n",
    "y_test = audio_stim['y_test'] #size of 900 by 1\n",
    "\n",
    "\n",
    "\n",
    "#print(X_train_raw.shape, y_train.shape, X_test_raw.shape, y_test.shape) #(2100, 129, 81) (2100,) (900, 129, 81) (900,)"
   ]
  },
  {
   "cell_type": "code",
   "execution_count": 86,
   "metadata": {},
   "outputs": [],
   "source": [
    "'''\n",
    "X_train = np.zeros([\n",
    "    np.size(X_train_raw,0),\n",
    "    np.size(X_train_raw,1) * np.size(X_train_raw,2)\n",
    "]) #this is a 2100 by 10449 array of zeros\n",
    "\n",
    "X_test = np.zeros([\n",
    "    np.size(X_test_raw,0),\n",
    "    np.size(X_test_raw,1) * np.size(X_test_raw,2)\n",
    "]) #this is 900 by 10449\n",
    "\n",
    "for i in range(np.size(X_train_raw,0)): #from 0 to 2100\n",
    "    X_train[i,:] = np.ravel(X_train_raw[i,:,:]) #x_train(i,:) is being set to the flatten version of 1x129x81 of the raw data\n",
    "\n",
    "for i in range(np.size(X_test_raw,0)):\n",
    "    X_test[i,:] = np.ravel(X_test_raw[i,:,:]) #same flatten procedure as the for loop above\n",
    "    \n",
    "    #this cell ends with x_train and x_test, being arrays containing the flatten version of the raw data in each cell\n",
    "'''\n",
    "X_train = X_train_raw\n",
    "X_test = X_test_raw"
   ]
  },
  {
   "cell_type": "code",
   "execution_count": 87,
   "metadata": {},
   "outputs": [],
   "source": [
    "# Dataloader arguments\n",
    "batch_size = 128*4 #set the batch size to 512 \n",
    "\n",
    "# Define a transform\n",
    "transform = transforms.Compose([\n",
    "    transforms.ToTensor()\n",
    "])\n",
    "\n",
    "training_dataset = TensorDataset(\n",
    "    torch.from_numpy(X_train.astype(np.float32)),\n",
    "    torch.from_numpy(y_train.astype(np.float32))\n",
    ") # creates a tensor of float32 containing the training data and label \n",
    "\n",
    "testing_dataset = TensorDataset(\n",
    "    torch.from_numpy(X_test.astype(np.float32)),\n",
    "    torch.from_numpy(y_test.astype(np.float32))\n",
    ") #creates a dataset for testing containihng data and label in a float32 format\n",
    "\n",
    "# Create DataLoaders\n",
    "train_loader = DataLoader(training_dataset, batch_size=batch_size, shuffle=True, drop_last=True) \n",
    "test_loader = DataLoader(testing_dataset, batch_size=batch_size, shuffle=True, drop_last=True)\n"
   ]
  },
  {
   "cell_type": "code",
   "execution_count": 88,
   "metadata": {},
   "outputs": [],
   "source": [
    "num_epochs = 100 #control the number of epochs in the training\n",
    "loss_hist = []\n",
    "test_loss_hist = []\n",
    "counter = 0\n",
    "\n",
    "# Define Network\n",
    "class AudNet(nn.Module):\n",
    "\t#no inputs for init,, 1000 hidden layers, 10 outputs, 81 steps, frequency 129, \n",
    "\tdef __init__(self,\n",
    "\t\tnum_inputs=None, num_hidden=1000, num_last_hidden=20, num_output=10,\n",
    "\t\tbeta=0.95, num_steps=81, num_freq=129):\n",
    "\t\tsuper().__init__()\n",
    "\n",
    "\t\tif num_inputs is None:\n",
    "\t\t\tnum_inputs = num_steps * num_freq #number of inputs will be set by multiplying steps by frequency, or 129*81 if number of inputs is 0\n",
    "\n",
    "\t\tself.num_steps = num_steps\n",
    "\t\tself.num_freq = num_freq\n",
    "\n",
    "\t\t# Initialize layers \n",
    "\t\tself.fc1 = nn.Linear(num_inputs, num_hidden) #first layer with num_inputs inputs and 1000 hidden \n",
    "\t\tself.lif1 = snn.Leaky(beta=beta) #first layer of spiking neuro network, controlled by beta \n",
    "\t\tself.fc2 = nn.Linear(num_hidden, num_hidden)\n",
    "\t\tself.lif2 = snn.Leaky(beta=beta)\n",
    "\t\tself.fc3 = nn.Linear(num_hidden, num_last_hidden)\n",
    "\t\tself.lif3 = snn.Leaky(beta=beta)\n",
    "\t\tself.fc4 = nn.Linear(num_last_hidden, num_output)\n",
    "\t\tself.lif4 = snn.Leaky(beta=beta)\n",
    "\n",
    "\n",
    "\tdef forward(self, x):\n",
    "\n",
    "\t\tx.to(torch.float32) #converts x to a float32 \n",
    "\t\tn = x.shape[0] #sets n to the first dimension of x\n",
    "\n",
    "\t\t# Initialize hidden states at t=0\n",
    "\t\tmem1 = self.lif1.init_leaky()\n",
    "\t\tmem2 = self.lif2.init_leaky()\n",
    "\t\tmem3 = self.lif3.init_leaky()\n",
    "\t\tmem4 = self.lif3.init_leaky() #why lif3 and not lif4\n",
    "\n",
    "\t\toutput_spike_record = []\n",
    "\t\toutput_memV_record = []\n",
    "\n",
    "\t\tfor step in range(self.num_steps):\n",
    "\n",
    "\t\t\tx_ = x.reshape(n, self.num_freq, self.num_steps)[:,:,step] #sets x_ to be the same dimensions as the original data \n",
    "\n",
    "\t\t\tcur1 = self.fc1(x_) \n",
    "\t\t\tspk1, mem1 = self.lif1(cur1, mem1)\n",
    "\n",
    "\t\t\tcur2 = self.fc2(spk1)\n",
    "\t\t\tspk2, mem2 = self.lif2(cur2, mem2)\n",
    "\n",
    "\t\t\tcur3 = self.fc3(spk2)\n",
    "\t\t\tspk3, mem3 = self.lif3(cur3, mem3)\n",
    "\n",
    "\t\t\tcur4 = self.fc4(spk3)\n",
    "\t\t\tspk4, mem4 = self.lif4(cur4, mem4)\n",
    "\n",
    "\t\t\toutput_spike_record.append(spk4)\n",
    "\t\t\toutput_memV_record.append(mem4)\n",
    "\n",
    "\t\tself.mem1 = mem1\n",
    "\t\tself.mem2 = mem2\n",
    "\t\tself.mem3 = mem3\n",
    "\n",
    "\t\treturn  torch.stack(output_spike_record, dim=0), torch.stack(output_memV_record, dim=0)\n",
    "\n",
    "\tdef fwd_frozen(self, x):\n",
    "\n",
    "\t\tmem1 = self.mem1\n",
    "\t\tmem2 = self.mem2\n",
    "\t\tmem3 = self.mem3\n",
    "\n",
    "\t\tlast_hidden_spike_record = []\n",
    "\t\tlast_hidden_output_memV_record = []\n",
    "\n",
    "\t\tfor step in range(self.num_steps):\n",
    "\n",
    "\t\t\tx_ = x.reshape(self.num_freq, self.num_steps)[:,step]\n",
    "\n",
    "\t\t\tcur1 = self.fc1(x_)\n",
    "\t\t\tspk1, mem1 = self.lif1(cur1, mem1)\n",
    "\n",
    "\t\t\tcur2 = self.fc2(spk1)\n",
    "\t\t\tspk2, mem2 = self.lif2(cur2, mem2)\n",
    "\n",
    "\t\t\tcur3 = self.fc3(spk2)\n",
    "\t\t\tspk3, mem3 = self.lif3(cur3, mem3)\n",
    "\n",
    "\t\t\tlast_hidden_spike_record.append(spk3)\n",
    "\t\t\tlast_hidden_output_memV_record.append(mem3)\n",
    "\n",
    "\t\treturn torch.stack(last_hidden_spike_record, dim=0), torch.stack(last_hidden_output_memV_record, dim=0)\n",
    "\n"
   ]
  },
  {
   "cell_type": "code",
   "execution_count": 89,
   "metadata": {},
   "outputs": [
    {
     "name": "stdout",
     "output_type": "stream",
     "text": [
      "Epoch 0, Iteration 0, Train loss = 3.18 Test loss = 2.82 \n",
      "\n",
      "Test set accuracy for a single minibatch: 10.55%\n",
      "\n",
      "\n",
      "Epoch 12, Iteration 2, Train loss = 1.24 Test loss = 1.34 \n",
      "\n",
      "Test set accuracy for a single minibatch: 29.30%\n",
      "\n",
      "\n",
      "Epoch 25, Iteration 0, Train loss = 0.83 Test loss = 1.10 \n",
      "\n",
      "Test set accuracy for a single minibatch: 47.46%\n",
      "\n",
      "\n",
      "Epoch 37, Iteration 2, Train loss = 0.66 Test loss = 0.90 \n",
      "\n",
      "Test set accuracy for a single minibatch: 67.38%\n",
      "\n",
      "\n",
      "Epoch 50, Iteration 0, Train loss = 0.36 Test loss = 0.80 \n",
      "\n",
      "Test set accuracy for a single minibatch: 83.59%\n",
      "\n",
      "\n",
      "Epoch 62, Iteration 2, Train loss = 0.20 Test loss = 0.87 \n",
      "\n",
      "Test set accuracy for a single minibatch: 88.28%\n",
      "\n",
      "\n",
      "Epoch 75, Iteration 0, Train loss = 0.16 Test loss = 0.87 \n",
      "\n",
      "Test set accuracy for a single minibatch: 88.48%\n",
      "\n",
      "\n",
      "Epoch 87, Iteration 2, Train loss = 0.08 Test loss = 0.98 \n",
      "\n",
      "Test set accuracy for a single minibatch: 91.41%\n",
      "\n",
      "\n"
     ]
    }
   ],
   "source": [
    "input_sz = np.size(X_train, 1) #sets input size to  the second dimension of x_train. For us 129\n",
    "# Load the network onto CUDA if available\n",
    "net = AudNet(num_inputs=input_sz).to(device) #loads the data using 129 as the number of inputs\n",
    "#print(\"network loaded\")\n",
    "\n",
    "# pass data into the network, sum the spikes over time\n",
    "# and compare the neuron with the highest number of spikes\n",
    "# with the target\n",
    "\n",
    "def print_batch_accuracy(data, targets, train=False):\n",
    "\toutput, _ = net(data)\n",
    "\t_, idx = output[-1].max(1)\n",
    "\tacc = np.mean((targets == idx).detach().cpu().numpy())\n",
    "\n",
    "\t# if train:\n",
    "\t#     print(f\"Train set accuracy for a single minibatch: {acc*100:.2f}%\")\n",
    "\t# else:\n",
    "\tprint(f\"Test set accuracy for a single minibatch: {acc*100:.2f}%\")\n",
    "\n",
    "#print(\"function print_batch_accuracy created\")\n",
    "\n",
    "def train_printer():\n",
    "\tprint(f\"Epoch {epoch}, Iteration {iter_counter}, Train loss = {loss_hist[counter]:.2f} Test loss = {test_loss_hist[counter]:.2f} \\n\")\n",
    "\tprint_batch_accuracy(data, targets)\n",
    "\tprint('\\n')\n",
    "\n",
    "#print(\"train_printer created\")\n",
    "\n",
    "loss = nn.CrossEntropyLoss()\n",
    "optimizer = torch.optim.Adam(net.parameters(), lr=5e-4, betas=(0.9, 0.999))\n",
    "\n",
    "# Outer training loop\n",
    "for epoch in range(num_epochs):\n",
    "\titer_counter = 0\n",
    "\ttrain_batch = iter(train_loader)\n",
    "\t#print(epoch)\n",
    "\t# Minibatch training loop\n",
    "\tfor data, targets in train_batch:\n",
    "\t\tdata = data.to(device)\n",
    "\t\ttargets = targets.to(device)\n",
    "\t\t#print(data)\n",
    "\t\t#print(targets)\n",
    "\t\t# forward pass\n",
    "\t\tnet.train()\n",
    "\t\t#print(\"network trained\")\n",
    "\t\t#spk_rec, mem_rec = net(data.view(batch_size, -1)) #batch x freq * freq*num_steps x hidden \n",
    "\t\tspk_rec, mem_rec = net(data)\n",
    "\t\t#print(\"spk_rec, mem_rec\")\n",
    "\t\t# initialize the loss & sum over time\n",
    "\t\t# loss_val = torch.zeros((1), dtype=dtype, device=device)\n",
    "\t\tloss_val = loss(mem_rec[-1], targets.type(torch.long))\n",
    "\n",
    "\t\t# Gradient calculation + weight update\n",
    "\t\toptimizer.zero_grad()\n",
    "\t\tloss_val.backward()\n",
    "\t\toptimizer.step()\n",
    "\n",
    "\t\t# Store loss history for future plotting\n",
    "\t\tloss_hist.append(loss_val.item())\n",
    "\n",
    "\t\t# Test set\n",
    "\t\twith torch.no_grad():\n",
    "\t\t\tnet.eval()\n",
    "\t\t\ttest_data, test_targets = next(iter(test_loader))\n",
    "\t\t\ttest_data = test_data.to(device)\n",
    "\t\t\ttest_targets = test_targets.to(device)\n",
    "\n",
    "\t\t\t# Test set forward pass\n",
    "\t\t\t#test_spk, test_mem = net(test_data.view(batch_size, -1))\n",
    "\t\t\ttest_spk, test_mem  = net(test_data)\n",
    "\n",
    "\t\t\t# Test set loss\n",
    "\t\t\t# test_loss = torch.zeros((1), dtype=dtype, device=device)\n",
    "\t\t\t# for step in range(num_steps):\n",
    "\t\t\ttest_loss = loss(test_mem[-1], test_targets.type(torch.long))\n",
    "\t\t\ttest_loss_hist.append(test_loss.item())\n",
    "\n",
    "\t\t\t# Print train/test loss/accuracy\n",
    "\t\t\tif counter % 50 == 0:\n",
    "\t\t\t\ttrain_printer()\n",
    "\t\t\tcounter += 1\n",
    "\t \n",
    "\t\titer_counter +=1"
   ]
  },
  {
   "cell_type": "code",
   "execution_count": 90,
   "metadata": {},
   "outputs": [],
   "source": [
    "#train_printer()"
   ]
  },
  {
   "cell_type": "code",
   "execution_count": 91,
   "metadata": {},
   "outputs": [
    {
     "data": {
      "text/plain": [
       "torch.Size([512, 10449])"
      ]
     },
     "execution_count": 91,
     "metadata": {},
     "output_type": "execute_result"
    }
   ],
   "source": [
    "data.view(batch_size, -1).shape"
   ]
  },
  {
   "cell_type": "code",
   "execution_count": 92,
   "metadata": {},
   "outputs": [
    {
     "data": {
      "text/plain": [
       "10449"
      ]
     },
     "execution_count": 92,
     "metadata": {},
     "output_type": "execute_result"
    }
   ],
   "source": [
    "129*81"
   ]
  },
  {
   "cell_type": "code",
   "execution_count": 93,
   "metadata": {},
   "outputs": [
    {
     "data": {
      "text/plain": [
       "torch.Size([81, 512, 10])"
      ]
     },
     "execution_count": 93,
     "metadata": {},
     "output_type": "execute_result"
    }
   ],
   "source": [
    "output, _ = net(data.view(batch_size, -1))\n",
    "output.shape"
   ]
  },
  {
   "cell_type": "code",
   "execution_count": 94,
   "metadata": {},
   "outputs": [],
   "source": [
    "_, idx = output.max(1)\n",
    "# acc = np.mean((targets == idx).detach().cpu().numpy())"
   ]
  },
  {
   "cell_type": "code",
   "execution_count": 95,
   "metadata": {},
   "outputs": [
    {
     "data": {
      "text/plain": [
       "(torch.Size([81, 512, 10]), torch.Size([512]))"
      ]
     },
     "execution_count": 95,
     "metadata": {},
     "output_type": "execute_result"
    }
   ],
   "source": [
    "test_mem.shape, test_targets.type(torch.long).shape"
   ]
  },
  {
   "cell_type": "code",
   "execution_count": 96,
   "metadata": {},
   "outputs": [
    {
     "data": {
      "text/plain": [
       "(2100, 129, 81)"
      ]
     },
     "execution_count": 96,
     "metadata": {},
     "output_type": "execute_result"
    }
   ],
   "source": [
    "X_train.shape"
   ]
  },
  {
   "cell_type": "code",
   "execution_count": 97,
   "metadata": {},
   "outputs": [],
   "source": [
    "from scipy.signal import spectrogram"
   ]
  },
  {
   "cell_type": "code",
   "execution_count": 98,
   "metadata": {},
   "outputs": [
    {
     "name": "stderr",
     "output_type": "stream",
     "text": [
      "/tmp/ipykernel_361/2150500970.py:1: UserWarning: nperseg = 256 is greater than input length  = 81, using nperseg = 81\n",
      "  _, _, s = spectrogram(X_train[2,:], fs=8000)\n"
     ]
    }
   ],
   "source": [
    "_, _, s = spectrogram(X_train[2,:], fs=8000)"
   ]
  },
  {
   "cell_type": "code",
   "execution_count": 99,
   "metadata": {},
   "outputs": [
    {
     "data": {
      "text/plain": [
       "(129, 81)"
      ]
     },
     "execution_count": 99,
     "metadata": {},
     "output_type": "execute_result"
    }
   ],
   "source": [
    "X_train[0,:].shape"
   ]
  },
  {
   "cell_type": "code",
   "execution_count": 100,
   "metadata": {},
   "outputs": [
    {
     "data": {
      "text/plain": [
       "[<matplotlib.lines.Line2D at 0x7f140fb136a0>,\n",
       " <matplotlib.lines.Line2D at 0x7f140fb12230>,\n",
       " <matplotlib.lines.Line2D at 0x7f140fb10310>,\n",
       " <matplotlib.lines.Line2D at 0x7f140fb13ca0>,\n",
       " <matplotlib.lines.Line2D at 0x7f140fb119f0>,\n",
       " <matplotlib.lines.Line2D at 0x7f140fb13cd0>,\n",
       " <matplotlib.lines.Line2D at 0x7f140fb13910>,\n",
       " <matplotlib.lines.Line2D at 0x7f140fb137f0>,\n",
       " <matplotlib.lines.Line2D at 0x7f140fb13fd0>,\n",
       " <matplotlib.lines.Line2D at 0x7f140fb13a00>,\n",
       " <matplotlib.lines.Line2D at 0x7f140fba5c60>,\n",
       " <matplotlib.lines.Line2D at 0x7f140fba7be0>,\n",
       " <matplotlib.lines.Line2D at 0x7f140fba70a0>,\n",
       " <matplotlib.lines.Line2D at 0x7f140fba5d20>,\n",
       " <matplotlib.lines.Line2D at 0x7f140fba5720>,\n",
       " <matplotlib.lines.Line2D at 0x7f140fba7a60>,\n",
       " <matplotlib.lines.Line2D at 0x7f140fba6ec0>,\n",
       " <matplotlib.lines.Line2D at 0x7f140fba4550>,\n",
       " <matplotlib.lines.Line2D at 0x7f140fba52d0>,\n",
       " <matplotlib.lines.Line2D at 0x7f140fba6b00>,\n",
       " <matplotlib.lines.Line2D at 0x7f140fba6d40>,\n",
       " <matplotlib.lines.Line2D at 0x7f140fba6170>,\n",
       " <matplotlib.lines.Line2D at 0x7f140fba5e70>,\n",
       " <matplotlib.lines.Line2D at 0x7f140fba40a0>,\n",
       " <matplotlib.lines.Line2D at 0x7f140fba7820>,\n",
       " <matplotlib.lines.Line2D at 0x7f140fba6d10>,\n",
       " <matplotlib.lines.Line2D at 0x7f140fba74f0>,\n",
       " <matplotlib.lines.Line2D at 0x7f140fba61a0>,\n",
       " <matplotlib.lines.Line2D at 0x7f140fba70d0>,\n",
       " <matplotlib.lines.Line2D at 0x7f140fba7c10>,\n",
       " <matplotlib.lines.Line2D at 0x7f140fba7670>,\n",
       " <matplotlib.lines.Line2D at 0x7f140fba7430>,\n",
       " <matplotlib.lines.Line2D at 0x7f140fba45e0>,\n",
       " <matplotlib.lines.Line2D at 0x7f140fba5cc0>,\n",
       " <matplotlib.lines.Line2D at 0x7f140fba7520>,\n",
       " <matplotlib.lines.Line2D at 0x7f140fba50c0>,\n",
       " <matplotlib.lines.Line2D at 0x7f140fba69e0>,\n",
       " <matplotlib.lines.Line2D at 0x7f14a4b33e20>,\n",
       " <matplotlib.lines.Line2D at 0x7f1465ed4fa0>,\n",
       " <matplotlib.lines.Line2D at 0x7f1465ed4a60>,\n",
       " <matplotlib.lines.Line2D at 0x7f1465ed4640>,\n",
       " <matplotlib.lines.Line2D at 0x7f1465ed4940>,\n",
       " <matplotlib.lines.Line2D at 0x7f1465ed4cd0>,\n",
       " <matplotlib.lines.Line2D at 0x7f1465ed4d60>,\n",
       " <matplotlib.lines.Line2D at 0x7f1465ed4d00>,\n",
       " <matplotlib.lines.Line2D at 0x7f1465ed4160>,\n",
       " <matplotlib.lines.Line2D at 0x7f1465ed7dc0>,\n",
       " <matplotlib.lines.Line2D at 0x7f1465ed4ca0>,\n",
       " <matplotlib.lines.Line2D at 0x7f1465ed42e0>,\n",
       " <matplotlib.lines.Line2D at 0x7f1465ed4490>,\n",
       " <matplotlib.lines.Line2D at 0x7f1465ed4850>,\n",
       " <matplotlib.lines.Line2D at 0x7f1465ed56c0>,\n",
       " <matplotlib.lines.Line2D at 0x7f1465ed4880>,\n",
       " <matplotlib.lines.Line2D at 0x7f1465ed42b0>,\n",
       " <matplotlib.lines.Line2D at 0x7f140fb74af0>,\n",
       " <matplotlib.lines.Line2D at 0x7f140fb769e0>,\n",
       " <matplotlib.lines.Line2D at 0x7f140fb77520>,\n",
       " <matplotlib.lines.Line2D at 0x7f140fb76f20>,\n",
       " <matplotlib.lines.Line2D at 0x7f140fb75240>,\n",
       " <matplotlib.lines.Line2D at 0x7f140fb773d0>,\n",
       " <matplotlib.lines.Line2D at 0x7f140fb76a70>,\n",
       " <matplotlib.lines.Line2D at 0x7f140fb76cb0>,\n",
       " <matplotlib.lines.Line2D at 0x7f140fb76b60>,\n",
       " <matplotlib.lines.Line2D at 0x7f140fb77490>,\n",
       " <matplotlib.lines.Line2D at 0x7f140fb75330>,\n",
       " <matplotlib.lines.Line2D at 0x7f140fb74280>,\n",
       " <matplotlib.lines.Line2D at 0x7f140fb74610>,\n",
       " <matplotlib.lines.Line2D at 0x7f140fb76e30>,\n",
       " <matplotlib.lines.Line2D at 0x7f140fb74250>,\n",
       " <matplotlib.lines.Line2D at 0x7f140fb766e0>,\n",
       " <matplotlib.lines.Line2D at 0x7f140fb754b0>,\n",
       " <matplotlib.lines.Line2D at 0x7f140fb75900>,\n",
       " <matplotlib.lines.Line2D at 0x7f140fb75b10>,\n",
       " <matplotlib.lines.Line2D at 0x7f140fb77f10>,\n",
       " <matplotlib.lines.Line2D at 0x7f140fb74940>,\n",
       " <matplotlib.lines.Line2D at 0x7f140fb74160>,\n",
       " <matplotlib.lines.Line2D at 0x7f140fb743a0>,\n",
       " <matplotlib.lines.Line2D at 0x7f140fb74370>,\n",
       " <matplotlib.lines.Line2D at 0x7f140fb760e0>,\n",
       " <matplotlib.lines.Line2D at 0x7f140fb744c0>,\n",
       " <matplotlib.lines.Line2D at 0x7f140fb753f0>]"
      ]
     },
     "execution_count": 100,
     "metadata": {},
     "output_type": "execute_result"
    },
    {
     "data": {
      "image/png": "[encoded data removed]",
      "text/plain": [
       "<Figure size 640x480 with 1 Axes>"
      ]
     },
     "metadata": {},
     "output_type": "display_data"
    }
   ],
   "source": [
    "plt.plot(X_train[2,:])"
   ]
  },
  {
   "cell_type": "code",
   "execution_count": 101,
   "metadata": {},
   "outputs": [
    {
     "data": {
      "text/plain": [
       "(129, 41, 1)"
      ]
     },
     "execution_count": 101,
     "metadata": {},
     "output_type": "execute_result"
    }
   ],
   "source": [
    "s.shape"
   ]
  },
  {
   "cell_type": "code",
   "execution_count": 102,
   "metadata": {},
   "outputs": [
    {
     "data": {
      "text/plain": [
       "(0.0, 20.0)"
      ]
     },
     "execution_count": 102,
     "metadata": {},
     "output_type": "execute_result"
    },
    {
     "data": {
      "image/png": "[encoded data removed]",
      "text/plain": [
       "<Figure size 640x480 with 1 Axes>"
      ]
     },
     "metadata": {},
     "output_type": "display_data"
    }
   ],
   "source": [
    "plt.imshow(s)\n",
    "plt.xlim([0,20])\n",
    "plt.ylim([0,20])"
   ]
  },
  {
   "cell_type": "code",
   "execution_count": 103,
   "metadata": {},
   "outputs": [
    {
     "data": {
      "text/plain": [
       "Text(0.5, 0, 'samples')"
      ]
     },
     "execution_count": 103,
     "metadata": {},
     "output_type": "execute_result"
    },
    {
     "data": {
      "image/png": "[encoded data removed]",
      "text/plain": [
       "<Figure size 640x480 with 1 Axes>"
      ]
     },
     "metadata": {},
     "output_type": "display_data"
    }
   ],
   "source": [
    "plt.plot(X_train[1,:], 'k')\n",
    "plt.xlim([0,2400])\n",
    "plt.xlabel('samples')"
   ]
  },
  {
   "cell_type": "code",
   "execution_count": 104,
   "metadata": {},
   "outputs": [
    {
     "name": "stdout",
     "output_type": "stream",
     "text": [
      "torch.Size([512, 129, 81]) torch.Size([512])\n"
     ]
    }
   ],
   "source": [
    "print(data.shape, targets.shape)"
   ]
  },
  {
   "cell_type": "code",
   "execution_count": 105,
   "metadata": {},
   "outputs": [
    {
     "data": {
      "text/plain": [
       "torch.Size([81, 512, 10])"
      ]
     },
     "execution_count": 105,
     "metadata": {},
     "output_type": "execute_result"
    }
   ],
   "source": [
    "mem_rec.shape"
   ]
  },
  {
   "cell_type": "code",
   "execution_count": 106,
   "metadata": {},
   "outputs": [
    {
     "data": {
      "text/plain": [
       "torch.Size([81, 512, 10])"
      ]
     },
     "execution_count": 106,
     "metadata": {},
     "output_type": "execute_result"
    }
   ],
   "source": [
    "test_mem.shape"
   ]
  },
  {
   "cell_type": "code",
   "execution_count": 107,
   "metadata": {},
   "outputs": [
    {
     "data": {
      "text/plain": [
       "torch.Size([512])"
      ]
     },
     "execution_count": 107,
     "metadata": {},
     "output_type": "execute_result"
    }
   ],
   "source": [
    "test_targets.shape"
   ]
  },
  {
   "cell_type": "code",
   "execution_count": 108,
   "metadata": {},
   "outputs": [
    {
     "data": {
      "text/plain": [
       "(torch.Size([81, 512, 10]), torch.Size([81, 512, 10]))"
      ]
     },
     "execution_count": 108,
     "metadata": {},
     "output_type": "execute_result"
    }
   ],
   "source": [
    "spk_rec, mem_rec = net(data.view(batch_size, -1))\n",
    "spk_rec.shape, mem_rec.shape"
   ]
  },
  {
   "cell_type": "code",
   "execution_count": 109,
   "metadata": {},
   "outputs": [
    {
     "name": "stdout",
     "output_type": "stream",
     "text": [
      "torch.float32\n",
      "torch.float32\n",
      "torch.float32\n",
      "torch.float32\n",
      "torch.float32\n",
      "torch.float32\n",
      "torch.float32\n",
      "torch.float32\n"
     ]
    }
   ],
   "source": [
    "for param in net.parameters():\n",
    "    print(param.dtype)"
   ]
  },
  {
   "cell_type": "code",
   "execution_count": null,
   "metadata": {},
   "outputs": [],
   "source": []
  }
 ],
 "metadata": {
  "kernelspec": {
   "display_name": "mmSNN",
   "language": "python",
   "name": "python3"
  },
  "language_info": {
   "codemirror_mode": {
    "name": "ipython",
    "version": 3
   },
   "file_extension": ".py",
   "mimetype": "text/x-python",
   "name": "python",
   "nbconvert_exporter": "python",
   "pygments_lexer": "ipython3",
   "version": "3.10.14"
  }
 },
 "nbformat": 4,
 "nbformat_minor": 2
}
