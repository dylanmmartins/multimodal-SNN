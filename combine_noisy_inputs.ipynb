{
 "cells": [
  {
   "cell_type": "code",
   "execution_count": 1,
   "metadata": {},
   "outputs": [],
   "source": [
    "import numpy as np\n",
    "import matplotlib.pyplot as plt"
   ]
  },
  {
   "cell_type": "code",
   "execution_count": 13,
   "metadata": {},
   "outputs": [],
   "source": [
    "for i in ['0', '0p1', '0p2', '0p5', '1p0']:\n",
    "    for j in ['0', '0p1', '0p2', '0p5', '1p0']:\n",
    "\n",
    "        visdata = np.load('visnet_v2_input_noise_{}.npz'.format(i))\n",
    "        auddata = np.load('audnet_v2_input_noise_{}.npz'.format(j))\n",
    "\n",
    "        vis_inputs = visdata['inputs']\n",
    "        aud_inputs = auddata['inputs']\n",
    "\n",
    "        vis_labels = visdata['labels']\n",
    "        aud_labels = auddata['labels']\n",
    "\n",
    "        vis_outputs = visdata['outputs']\n",
    "        aud_outputs = auddata['outputs']\n",
    "\n",
    "        paired_inputs = np.zeros([\n",
    "        np.size(aud_labels, 0),\n",
    "            40,\n",
    "            81\n",
    "        ])\n",
    "\n",
    "        usable_visInds = np.arange(np.size(vis_inputs, 0))\n",
    "\n",
    "        for ind in range(np.size(aud_inputs, 0)):\n",
    "\n",
    "            target_label = aud_labels[ind]\n",
    "\n",
    "            possible_pairings = np.argwhere(vis_labels == target_label).flatten()\n",
    "\n",
    "            possible_pairings = [x for x in possible_pairings if x in usable_visInds]\n",
    "\n",
    "            paired_ind = possible_pairings[0]\n",
    "\n",
    "            usable_visInds = np.delete(usable_visInds, paired_ind)\n",
    "\n",
    "            for t in range(81):\n",
    "                paired_inputs[ind,:,t] = np.concatenate([\n",
    "                    vis_outputs[1,t,paired_ind,:],\n",
    "                    aud_outputs[1,t,ind,:]\n",
    "                ])\n",
    "\n",
    "        np.save('paired_input_v{}_a{}.npy'.format(i,j), paired_inputs)\n",
    "        np.save('paired_labels_v{}_a{}.npy'.format(i,j), aud_labels)"
   ]
  },
  {
   "cell_type": "code",
   "execution_count": 3,
   "metadata": {},
   "outputs": [],
   "source": [
    "vis_inputs = visdata['inputs']\n",
    "aud_inputs = auddata['inputs']\n",
    "\n",
    "vis_labels = visdata['labels']\n",
    "aud_labels = auddata['labels']\n",
    "\n",
    "vis_outputs = visdata['outputs']\n",
    "aud_outputs = auddata['outputs']"
   ]
  },
  {
   "cell_type": "code",
   "execution_count": 4,
   "metadata": {},
   "outputs": [],
   "source": [
    "paired_inputs = np.zeros([\n",
    "    np.size(aud_labels, 0),\n",
    "    40,\n",
    "    81\n",
    "])\n",
    "\n",
    "usable_visInds = np.arange(np.size(vis_inputs, 0))\n",
    "\n",
    "for ind in range(np.size(aud_inputs, 0)):\n",
    "\n",
    "    target_label = aud_labels[ind]\n",
    "\n",
    "    possible_pairings = np.argwhere(vis_labels == target_label).flatten()\n",
    "\n",
    "    possible_pairings = [x for x in possible_pairings if x in usable_visInds]\n",
    "\n",
    "    paired_ind = possible_pairings[0]\n",
    "\n",
    "    usable_visInds = np.delete(usable_visInds, paired_ind)\n",
    "\n",
    "    for t in range(81):\n",
    "        paired_inputs[ind,:,t] = np.concatenate([\n",
    "            vis_outputs[1,t,paired_ind,:],\n",
    "            aud_outputs[1,t,ind,:]\n",
    "        ])\n",
    "\n",
    "np.save('paired_hidden_noise_1p0.npy', paired_inputs)"
   ]
  },
  {
   "cell_type": "code",
   "execution_count": 9,
   "metadata": {},
   "outputs": [],
   "source": [
    "all_labels = []\n",
    "for f in [\n",
    "    'audnet_v2_input_noise_0.npz',\n",
    "    'audnet_v2_input_noise_0p1.npz',\n",
    "    'audnet_v2_input_noise_0p2.npz',\n",
    "    'audnet_v2_input_noise_0p5.npz',\n",
    "    'audnet_v2_input_noise_1p0.npz',\n",
    "    'audnet_v2_hidden_noise_0p1.npz',\n",
    "    'audnet_v2_hidden_noise_0p2.npz',\n",
    "    'audnet_v2_hidden_noise_0p5.npz',\n",
    "    'audnet_v2_hidden_noise_1p0.npz'\n",
    "]:\n",
    "    labels = np.load(f)['labels']\n",
    "    all_labels.append(labels)\n",
    "\n",
    "all_labels = np.stack(all_labels)\n",
    "\n",
    "np.save('all_labels.npy', all_labels)"
   ]
  },
  {
   "cell_type": "code",
   "execution_count": null,
   "metadata": {},
   "outputs": [],
   "source": []
  }
 ],
 "metadata": {
  "kernelspec": {
   "display_name": "mmSNN",
   "language": "python",
   "name": "python3"
  },
  "language_info": {
   "codemirror_mode": {
    "name": "ipython",
    "version": 3
   },
   "file_extension": ".py",
   "mimetype": "text/x-python",
   "name": "python",
   "nbconvert_exporter": "python",
   "pygments_lexer": "ipython3",
   "version": "3.10.14"
  }
 },
 "nbformat": 4,
 "nbformat_minor": 2
}
