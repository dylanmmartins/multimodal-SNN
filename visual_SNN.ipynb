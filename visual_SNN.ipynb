{
 "cells": [
  {
   "cell_type": "code",
   "execution_count": 11,
   "metadata": {},
   "outputs": [
    {
     "name": "stdout",
     "output_type": "stream",
     "text": [
      "cuda\n"
     ]
    }
   ],
   "source": [
    "import snntorch as snn\n",
    "import torch\n",
    "from torchvision import datasets, transforms\n",
    "from snntorch import utils\n",
    "from torch.utils.data import DataLoader\n",
    "import torch.nn as nn\n",
    "import matplotlib.pyplot as plt\n",
    "from snntorch import spikegen\n",
    "import numpy as np\n",
    "\n",
    "dtype = torch.float\n",
    "device = torch.device(\"cuda\") if torch.cuda.is_available() else torch.device(\"mps\") if torch.backends.mps.is_available() else torch.device(\"cpu\")\n",
    "\n",
    "print(device)\n"
   ]
  },
  {
   "cell_type": "code",
   "execution_count": 12,
   "metadata": {},
   "outputs": [
    {
     "name": "stdout",
     "output_type": "stream",
     "text": [
      "Epoch 2, Iteration 0, Train loss = 234.59 Test loss = 231.19 \n",
      "\n",
      "Test set accuracy for a single minibatch: 16.21%\n",
      "\n",
      "\n",
      "Epoch 2, Iteration 50, Train loss = 85.33 Test loss = 81.90 \n",
      "\n",
      "Test set accuracy for a single minibatch: 87.89%\n",
      "\n",
      "\n",
      "Epoch 2, Iteration 100, Train loss = 40.76 Test loss = 44.11 \n",
      "\n",
      "Test set accuracy for a single minibatch: 94.34%\n",
      "\n",
      "\n"
     ]
    }
   ],
   "source": [
    "# Dataloader arguments\n",
    "batch_size = 128*4\n",
    "data_path='/tmp/data/mnist'\n",
    "\n",
    "# Define a transform\n",
    "transform = transforms.Compose([\n",
    "            transforms.Resize((28, 28)),\n",
    "            transforms.Grayscale(),\n",
    "            transforms.ToTensor(),\n",
    "            transforms.Normalize((0,), (1,))])\n",
    "\n",
    "mnist_train = datasets.MNIST(data_path, train=True, download=True, transform=transform)\n",
    "mnist_test = datasets.MNIST(data_path, train=False, download=True, transform=transform)\n",
    "\n",
    "# Create DataLoaders\n",
    "train_loader = DataLoader(mnist_train, batch_size=batch_size, shuffle=True, drop_last=True)\n",
    "test_loader = DataLoader(mnist_test, batch_size=batch_size, shuffle=True, drop_last=True)\n",
    "\n",
    "\n",
    "# Network Architecture\n",
    "num_inputs = 28*28\n",
    "\n",
    "num_epochs = 3\n",
    "loss_hist = []\n",
    "test_loss_hist = []\n",
    "counter = 0\n",
    "\n",
    "# Define Network\n",
    "class VisNet(nn.Module):\n",
    "    def __init__(self, num_inputs, num_hidden=1000, num_last_hidden=20, num_output=10,\n",
    "                 num_steps=81, beta=0.95):\n",
    "        super().__init__()\n",
    "\n",
    "        self.num_steps = num_steps\n",
    "\n",
    "        # Initialize layers\n",
    "        self.fc1 = nn.Linear(num_inputs, num_hidden)\n",
    "        self.lif1 = snn.Leaky(beta=beta)\n",
    "        self.fc2 = nn.Linear(num_hidden, num_hidden)\n",
    "        self.lif2 = snn.Leaky(beta=beta)\n",
    "        self.fc3 = nn.Linear(num_hidden, num_last_hidden)\n",
    "        self.lif3 = snn.Leaky(beta=beta)\n",
    "        self.fc4 = nn.Linear(num_last_hidden, num_output)\n",
    "        self.lif4 = snn.Leaky(beta=beta)\n",
    "\n",
    "\n",
    "    def forward(self, x):\n",
    "\n",
    "        # Initialize hidden states at t=0\n",
    "        mem1 = self.lif1.init_leaky()\n",
    "        mem2 = self.lif2.init_leaky()\n",
    "        mem3 = self.lif3.init_leaky()\n",
    "        mem4 = self.lif4.init_leaky()\n",
    "\n",
    "        # Record the output layer\n",
    "        output_spike_record = []\n",
    "        output_memV_record = []\n",
    "\n",
    "\n",
    "        for step in range(self.num_steps):\n",
    "\n",
    "            cur1 = self.fc1(x)\n",
    "            spk1, mem1 = self.lif1(cur1, mem1)\n",
    "\n",
    "            cur2 = self.fc2(spk1)\n",
    "            spk2, mem2 = self.lif2(cur2, mem2)\n",
    "\n",
    "            cur3 = self.fc3(spk2)\n",
    "            spk3, mem3 = self.lif3(cur3, mem3)\n",
    "\n",
    "            cur4 = self.fc4(spk3)\n",
    "            spk4, mem4 = self.lif4(cur4, mem4)\n",
    "\n",
    "            output_spike_record.append(spk4)\n",
    "            output_memV_record.append(mem4)\n",
    "\n",
    "        self.mem1 = mem1\n",
    "        self.mem2 = mem2\n",
    "        self.mem3 = mem3\n",
    "\n",
    "        return  torch.stack(output_spike_record, dim=0), torch.stack(output_memV_record, dim=0)\n",
    "    \n",
    "    def fwd_frozen(self, x):\n",
    "\n",
    "        mem1 = self.mem1\n",
    "        mem2 = self.mem2\n",
    "        mem3 = self.mem3\n",
    "\n",
    "        last_hidden_spike_record = []\n",
    "        last_hidden_output_memV_record = []\n",
    "\n",
    "        for step in range(self.num_steps):\n",
    "\n",
    "            cur1 = self.fc1(x)\n",
    "            spk1, mem1 = self.lif1(cur1, mem1)\n",
    "\n",
    "            cur2 = self.fc2(spk1)\n",
    "            spk2, mem2 = self.lif2(cur2, mem2)\n",
    "\n",
    "            cur3 = self.fc3(spk2)\n",
    "            spk3, mem3 = self.lif3(cur3, mem3)\n",
    "\n",
    "            last_hidden_spike_record.append(spk3)\n",
    "            last_hidden_output_memV_record.append(mem3)\n",
    "\n",
    "        return torch.stack(last_hidden_spike_record, dim=0), torch.stack(last_hidden_output_memV_record, dim=0)\n",
    "\n",
    "\n",
    "# Load the network onto CUDA if available\n",
    "net = VisNet(num_inputs=28*28).to(device)\n",
    "#print(net.device)\n",
    "next(net.parameters()).is_cuda\n",
    "\n",
    "def print_batch_accuracy(data, targets, train=False):\n",
    "    output, _ = net(data.view(batch_size, -1))\n",
    "    _, idx = output.sum(dim=0).max(1)\n",
    "    acc = np.mean((targets == idx).detach().cpu().numpy())\n",
    "\n",
    "    # if train:\n",
    "    #     print(f\"Train set accuracy for a single minibatch: {acc*100:.2f}%\")\n",
    "    # else:\n",
    "    print(f\"Test set accuracy for a single minibatch: {acc*100:.2f}%\")\n",
    "\n",
    "def train_printer():\n",
    "    print(f\"Epoch {epoch}, Iteration {iter_counter}, Train loss = {loss_hist[counter]:.2f} Test loss = {test_loss_hist[counter]:.2f} \\n\")\n",
    "    print_batch_accuracy(data, targets)\n",
    "    print('\\n')\n",
    "\n",
    "loss = nn.CrossEntropyLoss()\n",
    "optimizer = torch.optim.Adam(net.parameters(), lr=5e-4, betas=(0.9, 0.999))\n",
    "\n",
    "# Outer training loop\n",
    "for epoch in range(num_epochs):\n",
    "    iter_counter = 0\n",
    "    train_batch = iter(train_loader)\n",
    "\n",
    "    # Minibatch training loop\n",
    "for data, targets in train_batch:\n",
    "        data = data.to(device)\n",
    "        targets = targets.to(device)\n",
    "\n",
    "        # forward pass\n",
    "        net.train()\n",
    "        spk_rec, mem_rec = net(data.view(batch_size, -1))\n",
    "\n",
    "        # initialize the loss & sum over time\n",
    "        loss_val = torch.zeros((1), dtype=dtype, device=device)\n",
    "        for step in range(net.num_steps):\n",
    "            loss_val += loss(mem_rec[step], targets)\n",
    "\n",
    "        # Gradient calculation + weight update\n",
    "        optimizer.zero_grad()\n",
    "        loss_val.backward()\n",
    "        optimizer.step()\n",
    "\n",
    "        # Store loss history for future plotting\n",
    "        loss_hist.append(loss_val.item())\n",
    "\n",
    "        # Test set\n",
    "        with torch.no_grad():\n",
    "            net.eval()\n",
    "            test_data, test_targets = next(iter(test_loader))\n",
    "            test_data = test_data.to(device)\n",
    "            test_targets = test_targets.to(device)\n",
    "\n",
    "            # Test set forward pass\n",
    "            test_spk, test_mem = net(test_data.view(batch_size, -1))\n",
    "\n",
    "            # Test set loss\n",
    "            test_loss = torch.zeros((1), dtype=dtype, device=device)\n",
    "            for step in range(net.num_steps):\n",
    "                test_loss += loss(test_mem[step], test_targets)\n",
    "            test_loss_hist.append(test_loss.item())\n",
    "\n",
    "            # Print train/test loss/accuracy\n",
    "            if counter % 50 == 0:\n",
    "                train_printer()\n",
    "            counter += 1\n",
    "            iter_counter +=1"
   ]
  },
  {
   "cell_type": "code",
   "execution_count": 13,
   "metadata": {},
   "outputs": [
    {
     "name": "stdout",
     "output_type": "stream",
     "text": [
      "torch.Size([1000, 784])\n",
      "torch.Size([1000])\n",
      "torch.Size([1000, 1000])\n",
      "torch.Size([1000])\n",
      "torch.Size([20, 1000])\n",
      "torch.Size([20])\n",
      "torch.Size([10, 20])\n",
      "torch.Size([10])\n"
     ]
    }
   ],
   "source": [
    "for params in net.parameters():\n",
    "    print(params.shape)"
   ]
  },
  {
   "cell_type": "code",
   "execution_count": 14,
   "metadata": {},
   "outputs": [
    {
     "data": {
      "text/plain": [
       "device(type='cuda', index=0)"
      ]
     },
     "execution_count": 14,
     "metadata": {},
     "output_type": "execute_result"
    }
   ],
   "source": [
    "next(net.parameters()).device"
   ]
  },
  {
   "cell_type": "code",
   "execution_count": 15,
   "metadata": {},
   "outputs": [],
   "source": [
    "all_test_spk, all_test_mem = [], []\n",
    "all_test_data, all_test_targets = [], []\n",
    "with torch.no_grad():\n",
    "    net.eval()\n",
    "    for test_data, test_targets in iter(test_loader):\n",
    "    \n",
    "        # test_data, test_targets = next(iter(test_loader))\n",
    "        test_data = test_data.to(device)\n",
    "        test_targets = test_targets.to(device)\n",
    "\n",
    "        # Test set forward pass \n",
    "        test_spk, test_mem = net.fwd_frozen(test_data.view(batch_size, -1))\n",
    "        all_test_spk.append(test_spk)\n",
    "        all_test_mem.append(test_mem)\n",
    "        all_test_data.append(test_data)\n",
    "        all_test_targets.append(test_targets)"
   ]
  },
  {
   "cell_type": "code",
   "execution_count": 16,
   "metadata": {},
   "outputs": [],
   "source": [
    "visual_inputs = np.zeros([\n",
    "    len(all_test_spk)*np.size(all_test_spk[0],1),\n",
    "    28,\n",
    "    28\n",
    "])\n",
    "visual_labels = np.zeros(len(all_test_spk)*np.size(all_test_spk[0],1))\n",
    "for i in range(len(all_test_spk)):\n",
    "    visinput = all_test_data[i]\n",
    "    vistarg = all_test_targets[i]\n",
    "    ind_start = i*np.size(all_test_spk[0],1)\n",
    "    ind_end = i*np.size(all_test_spk[0],1) + np.size(all_test_spk[0],1)\n",
    "    visual_inputs[ind_start:ind_end, :, :] = np.squeeze(visinput.cpu().numpy())\n",
    "    visual_labels[ind_start:ind_end] = vistarg.cpu().numpy()"
   ]
  },
  {
   "cell_type": "code",
   "execution_count": 17,
   "metadata": {},
   "outputs": [],
   "source": [
    "spike_outputs = np.zeros([\n",
    "    2,\n",
    "    81,\n",
    "    len(all_test_spk)*np.size(all_test_spk[0],1),\n",
    "    20\n",
    "])\n",
    "for i in range(len(all_test_spk)):\n",
    "    spk = all_test_spk[i]\n",
    "    mem = all_test_mem[i]\n",
    "    ind_start = i*np.size(all_test_spk[0],1)\n",
    "    ind_end = i*np.size(all_test_spk[0],1) + np.size(all_test_spk[0],1)\n",
    "    spike_outputs[0, :, ind_start:ind_end, :] = spk.cpu().numpy()\n",
    "    spike_outputs[1, :, ind_start:ind_end, :] = mem.cpu().numpy()\n"
   ]
  },
  {
   "cell_type": "code",
   "execution_count": 18,
   "metadata": {},
   "outputs": [],
   "source": [
    "                            #print(visual_inputs.shape, visual_labels.shape, spike_outputs.shape)"
   ]
  },
  {
   "cell_type": "code",
   "execution_count": 19,
   "metadata": {},
   "outputs": [
    {
     "name": "stdout",
     "output_type": "stream",
     "text": [
      "(9728,)\n"
     ]
    }
   ],
   "source": [
    "np.savez(\n",
    "    'visual_outputs.npz',\n",
    "    inputs=visual_inputs,\n",
    "    labels=visual_labels,\n",
    "    outputs=spike_outputs\n",
    ")\n",
    "\n",
    "print(np.shape(visual_labels))\n",
    "torch.save(net.state_dict(), 'vis_v1.pt')"
   ]
  }
 ],
 "metadata": {
  "kernelspec": {
   "display_name": "mmSNN",
   "language": "python",
   "name": "python3"
  },
  "language_info": {
   "codemirror_mode": {
    "name": "ipython",
    "version": 3
   },
   "file_extension": ".py",
   "mimetype": "text/x-python",
   "name": "python",
   "nbconvert_exporter": "python",
   "pygments_lexer": "ipython3",
   "version": "3.10.14"
  }
 },
 "nbformat": 4,
 "nbformat_minor": 2
}
