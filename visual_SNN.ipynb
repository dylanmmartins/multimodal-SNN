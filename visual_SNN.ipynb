{
 "cells": [
  {
   "cell_type": "code",
   "execution_count": 1,
   "metadata": {},
   "outputs": [
    {
     "name": "stderr",
     "output_type": "stream",
     "text": [
      "c:\\Users\\dmartins\\anaconda3\\envs\\mmSNN\\lib\\site-packages\\torchvision\\io\\image.py:13: UserWarning: Failed to load image Python extension: '[WinError 127] The specified procedure could not be found'If you don't plan on using image functionality from `torchvision.io`, you can ignore this warning. Otherwise, there might be something wrong with your environment. Did you have `libjpeg` or `libpng` installed before building `torchvision` from source?\n",
      "  warn(\n"
     ]
    }
   ],
   "source": [
    "import snntorch as snn\n",
    "import torch\n",
    "from torchvision import datasets, transforms\n",
    "from snntorch import utils\n",
    "from torch.utils.data import DataLoader\n",
    "import torch.nn as nn\n",
    "import matplotlib.pyplot as plt\n",
    "from snntorch import spikegen\n",
    "import numpy as np\n",
    "\n",
    "dtype = torch.float\n",
    "device = torch.device(\"cuda\") if torch.cuda.is_available() else torch.device(\"mps\") if torch.backends.mps.is_available() else torch.device(\"cpu\")"
   ]
  },
  {
   "cell_type": "code",
   "execution_count": 17,
   "metadata": {},
   "outputs": [
    {
     "name": "stdout",
     "output_type": "stream",
     "text": [
      "Epoch 0, Iteration 0, Train loss = 99.72 Test loss = 90.73 \n",
      "\n",
      "Epoch 0, Iteration 50, Train loss = 14.99 Test loss = 18.02 \n",
      "\n",
      "Epoch 0, Iteration 100, Train loss = 16.95 Test loss = 22.17 \n",
      "\n",
      "Epoch 0, Iteration 150, Train loss = 14.16 Test loss = 15.34 \n",
      "\n",
      "Epoch 0, Iteration 200, Train loss = 13.13 Test loss = 12.43 \n",
      "\n",
      "Epoch 0, Iteration 250, Train loss = 14.64 Test loss = 14.86 \n",
      "\n",
      "Epoch 0, Iteration 300, Train loss = 12.10 Test loss = 15.84 \n",
      "\n",
      "Epoch 0, Iteration 350, Train loss = 16.25 Test loss = 14.57 \n",
      "\n",
      "Epoch 0, Iteration 400, Train loss = 13.10 Test loss = 12.64 \n",
      "\n",
      "Epoch 0, Iteration 450, Train loss = 11.87 Test loss = 11.19 \n",
      "\n"
     ]
    }
   ],
   "source": [
    "# Dataloader arguments\n",
    "batch_size = 128\n",
    "data_path='/tmp/data/mnist'\n",
    "\n",
    "# Define a transform\n",
    "transform = transforms.Compose([\n",
    "            transforms.Resize((28, 28)),\n",
    "            transforms.Grayscale(),\n",
    "            transforms.ToTensor(),\n",
    "            transforms.Normalize((0,), (1,))])\n",
    "\n",
    "mnist_train = datasets.MNIST(data_path, train=True, download=True, transform=transform)\n",
    "mnist_test = datasets.MNIST(data_path, train=False, download=True, transform=transform)\n",
    "\n",
    "# Create DataLoaders\n",
    "train_loader = DataLoader(mnist_train, batch_size=batch_size, shuffle=True, drop_last=True)\n",
    "test_loader = DataLoader(mnist_test, batch_size=batch_size, shuffle=True, drop_last=True)\n",
    "\n",
    "\n",
    "# Network Architecture\n",
    "num_inputs = 28*28\n",
    "num_hidden = 1000\n",
    "num_outputs = 50\n",
    "\n",
    "num_epochs = 1\n",
    "loss_hist = []\n",
    "test_loss_hist = []\n",
    "counter = 0\n",
    "\n",
    "# Temporal Dynamics\n",
    "num_steps = 25\n",
    "beta = 0.95\n",
    "\n",
    "# Define Network\n",
    "class VisNet(nn.Module):\n",
    "    def __init__(self, num_inputs):\n",
    "        super().__init__()\n",
    "\n",
    "        # Initialize layers\n",
    "        self.fc1 = nn.Linear(num_inputs, num_hidden)\n",
    "        self.lif1 = snn.Leaky(beta=beta)\n",
    "        self.fc2 = nn.Linear(num_hidden, num_hidden)\n",
    "        self.lif2 = snn.Leaky(beta=beta)\n",
    "        self.fc3 = nn.Linear(num_hidden, num_outputs)\n",
    "        self.lif3 = snn.Leaky(beta=beta)\n",
    "\n",
    "    def forward(self, x):\n",
    "\n",
    "        # Initialize hidden states at t=0\n",
    "        mem1 = self.lif1.init_leaky()\n",
    "        mem2 = self.lif2.init_leaky()\n",
    "        mem3 = self.lif3.init_leaky()\n",
    "\n",
    "        # record the middle layer\n",
    "        # spk2_rec = []\n",
    "        # mem2_rec = []\n",
    "\n",
    "        # Record the final layer\n",
    "        spk3_rec = []\n",
    "        mem3_rec = []\n",
    "\n",
    "        for step in range(num_steps):\n",
    "\n",
    "            cur1 = self.fc1(x)\n",
    "            spk1, mem1 = self.lif1(cur1, mem1)\n",
    "\n",
    "            cur2 = self.fc2(spk1)\n",
    "            spk2, mem2 = self.lif2(cur2, mem2)\n",
    "\n",
    "            cur3 = self.fc3(spk2)\n",
    "            spk3, mem3 = self.lif3(cur3, mem3)\n",
    "\n",
    "            # spk2_rec.append(spk2)\n",
    "            spk3_rec.append(spk3)\n",
    "            # mem2_rec.append(mem2)\n",
    "            mem3_rec.append(mem3)\n",
    "\n",
    "        return  torch.stack(spk3_rec, dim=0), torch.stack(mem3_rec, dim=0)\n",
    "\n",
    "# Load the network onto CUDA if available\n",
    "net = VisNet(num_inputs=28*28).to(device)\n",
    "\n",
    "# pass data into the network, sum the spikes over time\n",
    "# and compare the neuron with the highest number of spikes\n",
    "# with the target\n",
    "\n",
    "def print_batch_accuracy(data, targets, train=False):\n",
    "    output, _ = net(data.view(batch_size, -1))\n",
    "    _, idx = output.sum(dim=0).max(1)\n",
    "    acc = np.mean((targets == idx).detach().cpu().numpy())\n",
    "\n",
    "    if train:\n",
    "        print(f\"Train set accuracy for a single minibatch: {acc*100:.2f}%\")\n",
    "    else:\n",
    "        print(f\"Test set accuracy for a single minibatch: {acc*100:.2f}%\")\n",
    "\n",
    "def train_printer():\n",
    "    print(f\"Epoch {epoch}, Iteration {iter_counter}, Train loss = {loss_hist[counter]:.2f} Test loss = {test_loss_hist[counter]:.2f} \\n\")\n",
    "\n",
    "\n",
    "loss = nn.CrossEntropyLoss()\n",
    "optimizer = torch.optim.Adam(net.parameters(), lr=5e-4, betas=(0.9, 0.999))\n",
    "\n",
    "# Outer training loop\n",
    "for epoch in range(num_epochs):\n",
    "    iter_counter = 0\n",
    "    train_batch = iter(train_loader)\n",
    "\n",
    "    # Minibatch training loop\n",
    "    for data, targets in train_batch:\n",
    "        data = data.to(device)\n",
    "        targets = targets.to(device)\n",
    "\n",
    "        # forward pass\n",
    "        net.train()\n",
    "        spk_rec, mem_rec = net(data.view(batch_size, -1))\n",
    "\n",
    "        # initialize the loss & sum over time\n",
    "        loss_val = torch.zeros((1), dtype=dtype, device=device)\n",
    "        for step in range(num_steps):\n",
    "            loss_val += loss(mem_rec[step], targets)\n",
    "\n",
    "        # Gradient calculation + weight update\n",
    "        optimizer.zero_grad()\n",
    "        loss_val.backward()\n",
    "        optimizer.step()\n",
    "\n",
    "        # Store loss history for future plotting\n",
    "        loss_hist.append(loss_val.item())\n",
    "\n",
    "        # Test set\n",
    "        with torch.no_grad():\n",
    "            net.eval()\n",
    "            test_data, test_targets = next(iter(test_loader))\n",
    "            test_data = test_data.to(device)\n",
    "            test_targets = test_targets.to(device)\n",
    "\n",
    "            # Test set forward pass\n",
    "            test_spk, test_mem = net(test_data.view(batch_size, -1))\n",
    "\n",
    "            # Test set loss\n",
    "            test_loss = torch.zeros((1), dtype=dtype, device=device)\n",
    "            for step in range(num_steps):\n",
    "                test_loss += loss(test_mem[step], test_targets)\n",
    "            test_loss_hist.append(test_loss.item())\n",
    "\n",
    "            # Print train/test loss/accuracy\n",
    "            if counter % 50 == 0:\n",
    "                train_printer()\n",
    "            counter += 1\n",
    "            iter_counter +=1"
   ]
  },
  {
   "cell_type": "code",
   "execution_count": 6,
   "metadata": {},
   "outputs": [],
   "source": [
    "# torch.save(net.state_dict(), 'visnet_model_state_dict.pt')"
   ]
  },
  {
   "cell_type": "code",
   "execution_count": 29,
   "metadata": {},
   "outputs": [],
   "source": [
    "all_test_spk, all_test_mem = [], []\n",
    "all_test_data, all_test_targets = [], []\n",
    "with torch.no_grad():\n",
    "    net.eval()\n",
    "    for test_data, test_targets in iter(test_loader):\n",
    "    \n",
    "        # test_data, test_targets = next(iter(test_loader))\n",
    "        test_data = test_data.to(device)\n",
    "        test_targets = test_targets.to(device)\n",
    "\n",
    "        # Test set forward pass\n",
    "        test_spk, test_mem = net(test_data.view(batch_size, -1))\n",
    "        all_test_spk.append(test_spk)\n",
    "        all_test_mem.append(test_mem)\n",
    "        all_test_data.append(test_data)\n",
    "        all_test_targets.append(test_targets)"
   ]
  },
  {
   "cell_type": "code",
   "execution_count": 33,
   "metadata": {},
   "outputs": [
    {
     "data": {
      "text/plain": [
       "torch.Size([128, 1, 28, 28])"
      ]
     },
     "execution_count": 33,
     "metadata": {},
     "output_type": "execute_result"
    }
   ],
   "source": [
    "all_test_data[0].shape"
   ]
  },
  {
   "cell_type": "code",
   "execution_count": 32,
   "metadata": {},
   "outputs": [
    {
     "data": {
      "text/plain": [
       "torch.Size([128])"
      ]
     },
     "execution_count": 32,
     "metadata": {},
     "output_type": "execute_result"
    }
   ],
   "source": [
    "all_test_targets[0].shape"
   ]
  },
  {
   "cell_type": "code",
   "execution_count": 35,
   "metadata": {},
   "outputs": [],
   "source": [
    "visual_inputs = np.zeros([\n",
    "    len(all_test_spk)*np.size(all_test_spk[0],1),\n",
    "    28,\n",
    "    28\n",
    "])\n",
    "visual_labels = np.zeros(len(all_test_spk)*np.size(all_test_spk[0],1))\n",
    "for i in range(len(all_test_spk)):\n",
    "    visinput = all_test_data[i]\n",
    "    vistarg = all_test_targets[i]\n",
    "    ind_start = i*np.size(all_test_spk[0],1)\n",
    "    ind_end = i*np.size(all_test_spk[0],1) + np.size(all_test_spk[0],1)\n",
    "    visual_inputs[ind_start:ind_end, :, :] = np.squeeze(visinput).numpy()\n",
    "    visual_labels[ind_start:ind_end] = vistarg.numpy()"
   ]
  },
  {
   "cell_type": "code",
   "execution_count": 36,
   "metadata": {},
   "outputs": [],
   "source": [
    "spike_outputs = np.zeros([\n",
    "    2,\n",
    "    25,\n",
    "    len(all_test_spk)*np.size(all_test_spk[0],1),\n",
    "    50\n",
    "])\n",
    "for i in range(len(all_test_spk)):\n",
    "    spk = all_test_spk[i]\n",
    "    mem = all_test_mem[i]\n",
    "    ind_start = i*np.size(all_test_spk[0],1)\n",
    "    ind_end = i*np.size(all_test_spk[0],1) + np.size(all_test_spk[0],1)\n",
    "    spike_outputs[0, :, ind_start:ind_end, :] = spk.numpy()\n",
    "    spike_outputs[1, :, ind_start:ind_end, :] = mem.numpy()\n"
   ]
  },
  {
   "cell_type": "code",
   "execution_count": 40,
   "metadata": {},
   "outputs": [
    {
     "name": "stdout",
     "output_type": "stream",
     "text": [
      "(9984, 28, 28) (9984,) (2, 25, 9984, 50)\n"
     ]
    }
   ],
   "source": [
    "print(visual_inputs.shape, visual_labels.shape, spike_outputs.shape)"
   ]
  },
  {
   "cell_type": "code",
   "execution_count": 41,
   "metadata": {},
   "outputs": [],
   "source": [
    "np.savez(\n",
    "    'visual_outputs.npz',\n",
    "    inputs=visual_inputs,\n",
    "    labels=visual_labels,\n",
    "    outputs=spike_outputs\n",
    ")"
   ]
  }
 ],
 "metadata": {
  "kernelspec": {
   "display_name": "mmSNN",
   "language": "python",
   "name": "python3"
  },
  "language_info": {
   "codemirror_mode": {
    "name": "ipython",
    "version": 3
   },
   "file_extension": ".py",
   "mimetype": "text/x-python",
   "name": "python",
   "nbconvert_exporter": "python",
   "pygments_lexer": "ipython3",
   "version": "3.10.14"
  }
 },
 "nbformat": 4,
 "nbformat_minor": 2
}
