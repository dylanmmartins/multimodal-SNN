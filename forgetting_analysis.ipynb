{
 "cells": [
  {
   "cell_type": "code",
   "execution_count": 1,
   "metadata": {},
   "outputs": [],
   "source": [
    "import matplotlib.pyplot as plt\n",
    "import numpy as np\n",
    "import snntorch as snn\n",
    "import snntorch.functional as SF\n",
    "from snntorch import spikeplot as splt\n",
    "import snntorch.spikegen as spikegen\n",
    "import torch\n",
    "from torch import nn\n",
    "from torch.optim import Adam"
   ]
  },
  {
   "cell_type": "code",
   "execution_count": 4,
   "metadata": {},
   "outputs": [],
   "source": [
    "class MultimodalIntegration(nn.Module):\n",
    "\t\"\"\"\n",
    "\tCombine the outputs from the visual and auditory encoders into a single multimodal representation.\n",
    "\t\"\"\"\n",
    "\n",
    "\tdef __init__(self, input_size, hidden_size, output_size, beta):\n",
    "\t\tsuper(MultimodalIntegration, self).__init__()\n",
    "\n",
    "\t\tself.flatten = nn.Flatten()\n",
    "\t\tself.fc1 = nn.Linear(input_size, hidden_size)\n",
    "\t\tself.lif1 = snn.Leaky(beta=beta)\n",
    "\t\tself.fc2 = nn.Linear(hidden_size, hidden_size)\n",
    "\t\tself.lif2 = snn.Leaky(beta=beta)\n",
    "\t\tself.fc3 = nn.Linear(hidden_size, output_size)\n",
    "\t\tself.lif3 = snn.Leaky(beta=beta)\n",
    "\n",
    "\tdef forward(self, x):\n",
    "\t\tx = self.flatten(x.to(torch.float32))\n",
    "\t\t#print(f\"Shape after flattening: {x.shape}\")\n",
    "\t\tmem1 = self.lif1.init_leaky()\n",
    "\t\tmem2 = self.lif2.init_leaky()\n",
    "\t\tmem3 = self.lif3.init_leaky()\n",
    "\t\tcur1 = self.fc1(x)\n",
    "\t\tspk1, mem1 = self.lif1(cur1, mem1)\n",
    "\t\tcur2 = self.fc2(spk1)\n",
    "\t\tspk2, mem2 = self.lif2(cur2, mem2)\n",
    "\t\tcur3 = self.fc3(spk2)\n",
    "\t\tspk3, mem3 = self.lif3(cur3, mem3)\n",
    "\t\treturn spk3, mem3"
   ]
  },
  {
   "cell_type": "code",
   "execution_count": 2,
   "metadata": {},
   "outputs": [],
   "source": [
    "\n",
    "# ## Hyperparameters\n",
    "beta = 0.9  # Decay rate of the LIF neuron\n",
    "hidden_size = 64  # Size of the hidden layer\n",
    "output_size = 10  # Output size for the final multimodal representation\n",
    "input_size = 40  # Correct input size based on concatenation of visual and auditory spikes\n",
    "\n",
    "# Load the visual outputs file\n",
    "sensory_data = np.load('paired_input_noise_0p1.npy')\n",
    "all_labels = np.load('all_labels.npy')\n",
    "labels = all_labels[1,:].copy()"
   ]
  },
  {
   "cell_type": "code",
   "execution_count": 8,
   "metadata": {},
   "outputs": [],
   "source": [
    "device = torch.device('cpu')\n",
    "\n",
    "# Concatenate the encoded spikes\n",
    "combined_spikes = torch.from_numpy(sensory_data).to(device)\n",
    "\n",
    "net = MultimodalIntegration(input_size, hidden_size, output_size, beta).to(device)"
   ]
  },
  {
   "cell_type": "code",
   "execution_count": 9,
   "metadata": {},
   "outputs": [],
   "source": [
    "\n",
    "loss_fn = nn.CrossEntropyLoss()\n",
    "optimizer = Adam(net.parameters(), lr=0.01)\n",
    "\n",
    "targets = torch.from_numpy(labels).to(device)"
   ]
  },
  {
   "cell_type": "code",
   "execution_count": 10,
   "metadata": {},
   "outputs": [
    {
     "name": "stdout",
     "output_type": "stream",
     "text": [
      "Intel MKL WARNING: Support of Intel(R) Streaming SIMD Extensions 4.2 (Intel(R) SSE4.2) enabled only processors has been deprecated. Intel oneAPI Math Kernel Library 2025.0 will require Intel(R) Advanced Vector Extensions (Intel(R) AVX) instructions.\n",
      "Epoch 1/5, Loss: 136.0239\n",
      "Epoch 2/5, Loss: 130.6179\n",
      "Epoch 3/5, Loss: 130.4937\n",
      "Epoch 4/5, Loss: 130.0681\n",
      "Epoch 5/5, Loss: 130.1269\n",
      "Training complete\n"
     ]
    }
   ],
   "source": [
    "# Training loop\n",
    "num_epochs = 5\n",
    "# num_samples = min(vis_spikes.shape[0], aud_spikes.shape[0], targets.shape[0])  # Use the minimum size across datasets 512\n",
    "#num_samples = 3000\n",
    "\n",
    "num_steps = 81  # Number of timesteps for the spike train\n",
    "\n",
    "for epoch in range(num_epochs):\n",
    "\tepoch_loss = 0.0\n",
    "\n",
    "\tfor i in range(np.size(sensory_data, 0)):\n",
    "\n",
    "\t\ttarget = targets[i].unsqueeze(0)\n",
    "\n",
    "\t\t# Initialize hidden states\n",
    "\t\tmem1 = net.lif1.init_leaky()\n",
    "\t\tmem2 = net.lif2.init_leaky()\n",
    "\t\tmem3 = net.lif3.init_leaky()\n",
    "\n",
    "\t\t# Accumulate loss over timesteps\n",
    "\t\ttotal_loss = 0.0\n",
    "\t\toptimizer.zero_grad()\n",
    "\n",
    "\t\tfor t in range(num_steps):\n",
    "\t\t\t# Flatten the spike train for the current timestep\n",
    "\t\t\tinput_t = combined_spikes[i,:,t].unsqueeze(0)\n",
    "\n",
    "\t\t\t# Forward pass through the network for each timestep\n",
    "\t\t\tspk3, mem3 = net(input_t)\n",
    "\n",
    "\t\t\t# Compute loss for this timestep\n",
    "\t\t\tloss = loss_fn(spk3, target.long())\n",
    "\t\t\ttotal_loss += loss\n",
    "\n",
    "\t\t# Backward pass and optimization\n",
    "\t\toptimizer.zero_grad()\n",
    "\t\ttotal_loss.backward()\n",
    "\t\toptimizer.step()\n",
    "\n",
    "\t\tepoch_loss += total_loss.item()\n",
    "\n",
    "\tavg_loss = epoch_loss / np.size(sensory_data, 0)\n",
    "\tprint(f'Epoch {epoch + 1}/{num_epochs}, Loss: {avg_loss:.4f}')\n",
    "\ttorch.save(net.state_dict(), f\"mmSNN-epoch{epoch}\"+'.pt')\n",
    "\n",
    "print(\"Training complete\")"
   ]
  },
  {
   "cell_type": "code",
   "execution_count": 11,
   "metadata": {},
   "outputs": [
    {
     "data": {
      "text/plain": [
       "0.8365113811728395"
      ]
     },
     "execution_count": 11,
     "metadata": {},
     "output_type": "execute_result"
    }
   ],
   "source": [
    "batch = 512\n",
    "correct_preds = 0\n",
    "false_preds = 0\n",
    "with torch.no_grad():\n",
    "  net.eval()\n",
    "  for i in range(np.size(sensory_data, 0)):\n",
    "    target = targets[i].unsqueeze(0)\n",
    "    for t in range(num_steps):\n",
    "      input = combined_spikes[i,:,t].unsqueeze(0)\n",
    "      spk, mem = net(input)\n",
    "      if np.argmax(mem) == target:\n",
    "        correct_preds += 1\n",
    "      else:\n",
    "        false_preds += 1\n",
    "\n",
    "correct_preds / (correct_preds + false_preds)"
   ]
  },
  {
   "cell_type": "code",
   "execution_count": 70,
   "metadata": {},
   "outputs": [
    {
     "name": "stdout",
     "output_type": "stream",
     "text": [
      "<class 'numpy.ndarray'>\n",
      "(2560, 40, 81)\n"
     ]
    }
   ],
   "source": [
    "noise = np.ones(20, dtype=int)\n",
    "noise[:10] = 0\n",
    "np.random.shuffle(noise)\n",
    "noise * 10\n",
    "\n",
    "noise_mask = np.repeat(noise[:, np.newaxis], 81, axis=1)\n",
    "nm = np.repeat(noise_mask[np.newaxis, :, :], 2560, axis=0)\n",
    "print(type(nm))\n",
    "noise = np.concatenate((np.ones((2560, 20, 81)), nm), axis=1).astype(bool)\n",
    "print(noise.shape)"
   ]
  },
  {
   "cell_type": "code",
   "execution_count": 75,
   "metadata": {},
   "outputs": [],
   "source": [
    "# noisy_sensory_data = np.load('paired_input_noise_0p2.npy')\n",
    "noisy_sensory_data = sensory_data * noise\n",
    "# print(noisy_sensory_data)\n",
    "noisy_combined_spikes = torch.from_numpy(noisy_sensory_data[:,]).to(device)"
   ]
  },
  {
   "cell_type": "code",
   "execution_count": 76,
   "metadata": {},
   "outputs": [
    {
     "name": "stdout",
     "output_type": "stream",
     "text": [
      "on noisy data\n"
     ]
    },
    {
     "data": {
      "text/plain": [
       "0.8432146990740741"
      ]
     },
     "execution_count": 76,
     "metadata": {},
     "output_type": "execute_result"
    }
   ],
   "source": [
    "batch = 512\n",
    "correct_preds = 0\n",
    "false_preds = 0\n",
    "with torch.no_grad():\n",
    "  net.eval()\n",
    "  for i in range(np.size(noisy_sensory_data, 0)):\n",
    "    target = targets[i].unsqueeze(0)\n",
    "    for t in range(num_steps):\n",
    "      input = noisy_combined_spikes[i,:,t].unsqueeze(0)\n",
    "      spk, mem = net(input)\n",
    "      if np.argmax(mem) == target:\n",
    "        correct_preds += 1\n",
    "      else:\n",
    "        false_preds += 1\n",
    "\n",
    "print(\"on noisy data\")\n",
    "correct_preds / (correct_preds + false_preds)"
   ]
  },
  {
   "cell_type": "markdown",
   "metadata": {},
   "source": [
    "## EVAL"
   ]
  },
  {
   "cell_type": "code",
   "execution_count": 104,
   "metadata": {},
   "outputs": [
    {
     "data": {
      "text/plain": [
       "<All keys matched successfully>"
      ]
     },
     "execution_count": 104,
     "metadata": {},
     "output_type": "execute_result"
    }
   ],
   "source": [
    "state_dict = torch.load(\"mmSNN-epoch4\"+'.pt')\n",
    "eval_net = MultimodalIntegration(input_size, hidden_size, output_size, beta).to(device)\n",
    "eval_net.load_state_dict(state_dict)"
   ]
  },
  {
   "cell_type": "code",
   "execution_count": 127,
   "metadata": {},
   "outputs": [],
   "source": [
    "def gen_noise_mask(noise_pct, vision = True):\n",
    "    noise = np.ones(20, dtype=int)\n",
    "    noise[:int(20*noise_pct)] = 0\n",
    "    np.random.shuffle(noise)\n",
    "\n",
    "    noise_mask = np.repeat(noise[:, np.newaxis], 81, axis=1)\n",
    "    nm = np.repeat(noise_mask[np.newaxis, :, :], 2560, axis=0)\n",
    "    if vision:\n",
    "        noise = np.concatenate((nm, np.ones((2560, 20, 81))), axis=1).astype(bool)\n",
    "    else:\n",
    "        noise = np.concatenate((np.ones((2560, 20, 81)), nm), axis=1).astype(bool)\n",
    "\n",
    "    return noise\n",
    "\n",
    "def eval(net, noisy_sensory_data, noisy_combined_spikes):\n",
    "    batch = 512\n",
    "    correct_preds = 0\n",
    "    false_preds = 0\n",
    "    with torch.no_grad():\n",
    "        net.eval()\n",
    "        for i in range(np.size(noisy_sensory_data, 0)):\n",
    "            if i==batch: return correct_preds / (correct_preds + false_preds)\n",
    "            target = targets[i].unsqueeze(0)\n",
    "            for t in range(num_steps):\n",
    "                input = noisy_combined_spikes[i,:,t].unsqueeze(0)\n",
    "                spk, mem = net(input)\n",
    "                if np.argmax(mem) == target:\n",
    "                    correct_preds += 1\n",
    "                else:\n",
    "                    false_preds += 1\n",
    "\n",
    "    return correct_preds / (correct_preds + false_preds)"
   ]
  },
  {
   "cell_type": "code",
   "execution_count": 128,
   "metadata": {},
   "outputs": [
    {
     "name": "stdout",
     "output_type": "stream",
     "text": [
      "noise 0.1  acc 0.8544560185185185\n",
      "noise 0.2  acc 0.8536361882716049\n",
      "noise 0.3  acc 0.8434124228395061\n",
      "noise 0.5  acc 0.8347800925925926\n",
      "noise 0.7  acc 0.824170524691358\n",
      "noise 0.9  acc 0.7856385030864198\n",
      "noise 1  acc 0.7804060570987654\n"
     ]
    }
   ],
   "source": [
    "n_levels = [.1, .2, .3, .5, .7, .9, 1]\n",
    "\n",
    "audio_noise = []\n",
    "for n in n_levels:\n",
    "    noise = gen_noise_mask(n, vision=False) \n",
    "    noisy_sensory_data = sensory_data * noise\n",
    "    noisy_combined_spikes = torch.from_numpy(noisy_sensory_data[:,]).to(device)\n",
    "    acc = eval(eval_net, noisy_sensory_data, noisy_combined_spikes)\n",
    "    audio_noise.append(acc)\n",
    "    print(f\"noise {n}  acc {acc}\")"
   ]
  },
  {
   "cell_type": "code",
   "execution_count": 129,
   "metadata": {},
   "outputs": [
    {
     "name": "stdout",
     "output_type": "stream",
     "text": [
      "noise in vision\n",
      "noise 0.1  acc 0.8384934413580247\n",
      "noise 0.2  acc 0.8201678240740741\n",
      "noise 0.3  acc 0.8191550925925926\n",
      "noise 0.5  acc 0.7765962577160493\n",
      "noise 0.7  acc 0.6385030864197531\n",
      "noise 0.9  acc 0.4851707175925926\n",
      "noise 1  acc 0.41030092592592593\n"
     ]
    }
   ],
   "source": [
    "visual_noise = []\n",
    "print(\"noise in vision\")\n",
    "for n in n_levels:\n",
    "    noise = gen_noise_mask(n, vision=True) \n",
    "    noisy_sensory_data = sensory_data * noise\n",
    "    noisy_combined_spikes = torch.from_numpy(noisy_sensory_data[:,]).to(device)\n",
    "    acc = eval(eval_net, noisy_sensory_data, noisy_combined_spikes)\n",
    "    visual_noise.append(acc)\n",
    "    print(f\"noise {n}  acc {acc}\")"
   ]
  },
  {
   "cell_type": "code",
   "execution_count": 130,
   "metadata": {},
   "outputs": [
    {
     "data": {
      "text/plain": [
       "Text(0.5, 1.0, 'accuracy v single-sense dropout pct')"
      ]
     },
     "execution_count": 130,
     "metadata": {},
     "output_type": "execute_result"
    },
    {
     "data": {
      "image/png": "[encoded data removed]",
      "text/plain": [
       "<Figure size 640x480 with 1 Axes>"
      ]
     },
     "metadata": {},
     "output_type": "display_data"
    }
   ],
   "source": [
    "# audio_noise = [0.8539255401234568, 0.8502604166666666, 0.8532021604938271, 0.845727237654321, 0.7804060570987654]\n",
    "# visual_noise = [0.8403983410493827, 0.8411699459876543, 0.8059413580246914, 0.7978153935185185, 0.41030092592592593]\n",
    "plt.plot(n_levels, audio_noise, label=\"audio noise\")\n",
    "plt.plot(n_levels, visual_noise, label=\"visual noise\")\n",
    "plt.legend()\n",
    "plt.title(\"accuracy v single-sense dropout pct\")"
   ]
  },
  {
   "cell_type": "markdown",
   "metadata": {},
   "source": [
    "## Forgetting"
   ]
  },
  {
   "cell_type": "code",
   "execution_count": 155,
   "metadata": {},
   "outputs": [],
   "source": [
    "noise = gen_noise_mask(1, vision=True) \n",
    "noisy_sensory_data = (sensory_data * noise) + (noise - 1)\n",
    "noisy_combined_spikes = torch.from_numpy(noisy_sensory_data[:,]).to(device)\n"
   ]
  },
  {
   "cell_type": "code",
   "execution_count": 156,
   "metadata": {},
   "outputs": [
    {
     "data": {
      "text/plain": [
       "<All keys matched successfully>"
      ]
     },
     "execution_count": 156,
     "metadata": {},
     "output_type": "execute_result"
    }
   ],
   "source": [
    "state_dict = torch.load(\"mmSNN-epoch4\"+'.pt')\n",
    "net = MultimodalIntegration(input_size, hidden_size, output_size, beta).to(device)\n",
    "net.load_state_dict(state_dict)"
   ]
  },
  {
   "cell_type": "code",
   "execution_count": 157,
   "metadata": {},
   "outputs": [
    {
     "name": "stdout",
     "output_type": "stream",
     "text": [
      "Epoch 1/5, Loss: 178.4227\n",
      "Epoch 2/5, Loss: 176.0206\n",
      "Epoch 3/5, Loss: 170.2694\n"
     ]
    }
   ],
   "source": [
    "loss_fn = nn.CrossEntropyLoss()\n",
    "optimizer = Adam(net.parameters(), lr=0.05)\n",
    "\n",
    "# Initialize list to store weights\n",
    "weights_history = []\n",
    "current_weights = {name: param.clone().detach() for name, param in net.state_dict().items()}\n",
    "weights_history.append(current_weights)\n",
    "\n",
    "net.train()\n",
    "\n",
    "# Training loop\n",
    "for epoch in range(3):\n",
    "    # Training code here\n",
    "    epoch_loss = 0.0\n",
    "\n",
    "    for i in range(np.size(noisy_sensory_data, 0)):\n",
    "\n",
    "        target = targets[i].unsqueeze(0)\n",
    "\n",
    "        # Initialize hidden states\n",
    "        mem1 = net.lif1.init_leaky()\n",
    "        mem2 = net.lif2.init_leaky()\n",
    "        mem3 = net.lif3.init_leaky()\n",
    "\n",
    "        # Accumulate loss over timesteps\n",
    "        total_loss = 0.0\n",
    "        optimizer.zero_grad()\n",
    "\n",
    "        for t in range(num_steps):\n",
    "            # Flatten the spike train for the current timestep\n",
    "            input_t = noisy_combined_spikes[i,:,t].unsqueeze(0)\n",
    "            # Forward pass through the network for each timestep\n",
    "            spk3, mem3 = net(input_t)\n",
    "\n",
    "            # Compute loss for this timestep\n",
    "            loss = loss_fn(spk3, target.long())\n",
    "            total_loss += loss\n",
    "\n",
    "        # Backward pass and optimization\n",
    "        optimizer.zero_grad()\n",
    "        total_loss.backward()\n",
    "        optimizer.step()\n",
    "\n",
    "        epoch_loss += total_loss.item()\n",
    "\n",
    "    avg_loss = epoch_loss / np.size(noisy_sensory_data, 0)\n",
    "    print(f'Epoch {epoch + 1}/{num_epochs}, Loss: {avg_loss:.4f}')\n",
    "    \n",
    "    # Store a deep copy of the model's weights\n",
    "    current_weights = {name: param.clone().detach() for name, param in net.state_dict().items()}\n",
    "    weights_history.append(current_weights)"
   ]
  },
  {
   "cell_type": "code",
   "execution_count": 158,
   "metadata": {},
   "outputs": [
    {
     "name": "stdout",
     "output_type": "stream",
     "text": [
      "noise 0  acc 0.34859664351851855\n",
      "noise 0.5  acc 0.31512827932098764\n"
     ]
    }
   ],
   "source": [
    "acc = eval(net, sensory_data, combined_spikes)\n",
    "print(f\"noise 0  acc {acc}\")\n",
    "\n",
    "acc = eval(net, noisy_sensory_data, noisy_combined_spikes)\n",
    "print(f\"noise 0.5  acc {acc}\")"
   ]
  },
  {
   "cell_type": "code",
   "execution_count": 161,
   "metadata": {},
   "outputs": [
    {
     "data": {
      "image/png": "[encoded data removed]",
      "text/plain": [
       "<Figure size 1200x400 with 3 Axes>"
      ]
     },
     "metadata": {},
     "output_type": "display_data"
    }
   ],
   "source": [
    "name_layer = 'fc3.weight'\n",
    "\n",
    "fig, axs = plt.subplots(1, 3, figsize=(12,4))\n",
    "cc = \"magma\"\n",
    "heatmap = axs[0].pcolor(weights_history[0][name_layer].numpy(), cmap=cc)\n",
    "# axs[0].colorbar(heatmap)\n",
    "axs[0].set_title(f\"{name_layer} after 5e normal \")\n",
    "heatmap = axs[1].pcolor(weights_history[-1][name_layer].numpy(), cmap=cc)\n",
    "\n",
    "diff = weights_history[0][name_layer] - weights_history[-1][name_layer]\n",
    "heatmap = axs[2].pcolor(diff.numpy(), cmap=cc)\n",
    "\n",
    "# plt.title(\"Change in first layer weights\")\n",
    "axs[1].set_title(\"after 5e more 0.5 noise training\")\n",
    "axs[2].set_title(\"diff\")\n",
    "\n",
    "plt.tight_layout()\n",
    "plt.show()\n"
   ]
  },
  {
   "cell_type": "code",
   "execution_count": null,
   "metadata": {},
   "outputs": [],
   "source": [
    "weight_diffs = []\n",
    "\n",
    "for i in range(1, len(weights_history)):\n",
    "    diff = {name: weights_history[i][name] - weights_history[i-1][name] for name in weights_history[i].keys()}\n",
    "    weight_diffs.append(diff)"
   ]
  },
  {
   "cell_type": "code",
   "execution_count": 84,
   "metadata": {},
   "outputs": [
    {
     "data": {
      "text/plain": [
       "Text(0.5, 1.0, 'Change in first layer weights')"
      ]
     },
     "execution_count": 84,
     "metadata": {},
     "output_type": "execute_result"
    },
    {
     "data": {
      "image/png": "[encoded data removed]",
      "text/plain": [
       "<Figure size 640x480 with 2 Axes>"
      ]
     },
     "metadata": {},
     "output_type": "display_data"
    }
   ],
   "source": [
    "diff = weights_history[0][\"fc1.weight\"] - weights_history[-2][\"fc1.weight\"]\n",
    "heatmap = plt.pcolor(diff.numpy())\n",
    "plt.colorbar(heatmap)\n",
    "plt.title(\"Change in first layer weights\")"
   ]
  },
  {
   "cell_type": "code",
   "execution_count": 118,
   "metadata": {},
   "outputs": [
    {
     "name": "stdout",
     "output_type": "stream",
     "text": [
      "dict_keys(['fc1.weight', 'fc1.bias', 'lif1.threshold', 'lif1.graded_spikes_factor', 'lif1.reset_mechanism_val', 'lif1.beta', 'fc2.weight', 'fc2.bias', 'lif2.threshold', 'lif2.graded_spikes_factor', 'lif2.reset_mechanism_val', 'lif2.beta', 'fc3.weight', 'fc3.bias', 'lif3.threshold', 'lif3.graded_spikes_factor', 'lif3.reset_mechanism_val', 'lif3.beta'])\n"
     ]
    }
   ],
   "source": [
    "print(weights_history[0].keys())"
   ]
  }
 ],
 "metadata": {
  "kernelspec": {
   "display_name": "mmSNN",
   "language": "python",
   "name": "python3"
  },
  "language_info": {
   "codemirror_mode": {
    "name": "ipython",
    "version": 3
   },
   "file_extension": ".py",
   "mimetype": "text/x-python",
   "name": "python",
   "nbconvert_exporter": "python",
   "pygments_lexer": "ipython3",
   "version": "3.10.14"
  }
 },
 "nbformat": 4,
 "nbformat_minor": 2
}
